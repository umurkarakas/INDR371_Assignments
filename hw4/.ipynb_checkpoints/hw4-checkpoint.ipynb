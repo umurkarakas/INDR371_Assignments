{
 "cells": [
  {
   "cell_type": "code",
   "execution_count": 1,
   "id": "eb66f610",
   "metadata": {},
   "outputs": [],
   "source": [
    "import numpy as np\n",
    "import pandas as pd\n",
    "from scipy.stats import *"
   ]
  },
  {
   "cell_type": "markdown",
   "id": "0dd282ff",
   "metadata": {},
   "source": [
    "## Question 1"
   ]
  },
  {
   "cell_type": "markdown",
   "id": "d15657e2",
   "metadata": {},
   "source": [
    "$ P(2.97 \\leq X \\leq 3.03) $ where X ~ N(3, 0.02)  "
   ]
  },
  {
   "cell_type": "code",
   "execution_count": 2,
   "id": "5c772e22",
   "metadata": {},
   "outputs": [
    {
     "data": {
      "text/plain": [
       "0.8663855974622814"
      ]
     },
     "execution_count": 2,
     "metadata": {},
     "output_type": "execute_result"
    }
   ],
   "source": [
    "p_success = norm.cdf(3.03, loc=3, scale=0.02) - norm.cdf(2.97, loc=3, scale=0.02)\n",
    "p_success"
   ]
  },
  {
   "cell_type": "markdown",
   "id": "a3481d68",
   "metadata": {},
   "source": [
    "### Part A"
   ]
  },
  {
   "cell_type": "code",
   "execution_count": 3,
   "id": "543e8b4c",
   "metadata": {},
   "outputs": [
    {
     "name": "stdout",
     "output_type": "stream",
     "text": [
      "The probability that the production requirements (100) are met if Q=100 is 0.000001\n",
      "The probability that the production requirements (100) are met if Q=110 is 0.116330\n",
      "The probability that the production requirements (100) are met if Q=120 is 0.882458\n"
     ]
    }
   ],
   "source": [
    "for Q in [100,110,120]:\n",
    "    print(\"The probability that the production requirements (100) are met if Q={} is {:.6f}\".format(Q,1-binom.cdf(k=99, n=Q, p=p_success)))"
   ]
  },
  {
   "cell_type": "markdown",
   "id": "a194b703",
   "metadata": {},
   "source": [
    "### Part B"
   ]
  },
  {
   "cell_type": "code",
   "execution_count": 4,
   "id": "c6b6a3db",
   "metadata": {},
   "outputs": [
    {
     "name": "stdout",
     "output_type": "stream",
     "text": [
      "The probability that the production requirements (1000) are met if Q=1000 is 0.000000\n",
      "The probability that the production requirements (1000) are met if Q=1100 is 0.000008\n",
      "The probability that the production requirements (1000) are met if Q=1200 is 0.999532\n"
     ]
    }
   ],
   "source": [
    "for Q in [1000,1100,1200]:\n",
    "    print(\"The probability that the production requirements (1000) are met if Q={} is {:.6f}\".format(Q,1-binom.cdf(k=999, n=Q, p=p_success)))"
   ]
  },
  {
   "cell_type": "markdown",
   "id": "81c14d31",
   "metadata": {},
   "source": [
    "## Question 2"
   ]
  },
  {
   "cell_type": "code",
   "execution_count": 5,
   "id": "235e62ef",
   "metadata": {},
   "outputs": [],
   "source": [
    "seed=0\n",
    "np.random.seed(seed)\n",
    "\n",
    "shiftDuration=480 #minutes\n",
    "stuckProb=0.02\n",
    "maintenanceTime=45\n",
    "damageProb=0.4\n",
    "travelTime=40/60 #minute\n",
    "successProb=0.985\n",
    "workerBrake=20 #minutes\n",
    "\n",
    "\n",
    "def simulation(m,shiftDuration,stuckProb,maintenanceTime,damageProb,travelTime,successProb,breakTime=workerBrake,rep=1000):\n",
    "    prod=[]\n",
    "    scrap=[]\n",
    "    damage=[]\n",
    "    for i in range(0,rep):\n",
    "        mtimes=np.zeros(m)\n",
    "        inMaintenance=[False for _ in range(m)]\n",
    "        currentMachine=0\n",
    "        time=0\n",
    "        numberOfItemsProduced=0\n",
    "        numberOfItemsScrapped=0\n",
    "        numberOfItemsDamaged=0\n",
    "        brakeTaken=False\n",
    "        while time<shiftDuration:\n",
    "            if inMaintenance[currentMachine]: ## check whether the machine is currently in maintenance\n",
    "                if time >= mtimes[currentMachine]:\n",
    "                    inMaintenance[currentMachine] = False ## set inMaintenance == False if 45 minutes has passed\n",
    "                else:\n",
    "                    if time>shiftDuration/2 and not brakeTaken: ## travel to next machine\n",
    "                        tt=breakTime\n",
    "                        brakeTaken=True\n",
    "                    else:\n",
    "                        tt=travelTime\n",
    "                    time=time+tt\n",
    "                    currentMachine=(currentMachine+1)%m  \n",
    "                    continue ## start the while loop with new machine\n",
    "                    \n",
    "            time=max(time,mtimes[currentMachine])\n",
    "            if mtimes[currentMachine]>0:\n",
    "                ut=np.random.normal(0.5,5/60)\n",
    "                it=np.random.normal(1,0.0)\n",
    "                if np.random.uniform(0,1)>stuckProb: ## if not stuck\n",
    "                    if np.random.uniform(0,1)<successProb: #qualityCheck\n",
    "                        numberOfItemsProduced+=1\n",
    "                    else:\n",
    "                        numberOfItemsScrapped+=1 \n",
    "                else: \n",
    "                    inMaintenance[currentMachine] = True ## stuck, in maintenance\n",
    "                    if np.random.uniform(0,1)>damageProb: ## if not damaged\n",
    "                        if np.random.uniform(0,1)<successProb: #qualityCheck\n",
    "                            numberOfItemsProduced+=1\n",
    "                        else:\n",
    "                            numberOfItemsScrapped+=1\n",
    "                    else:\n",
    "                        it=0\n",
    "                        numberOfItemsDamaged+=1 \n",
    "            else:\n",
    "                ut=0\n",
    "                it=0\n",
    "            time=time+ut\n",
    "            #loading\n",
    "            time=time+np.random.normal(45/60,10/60)\n",
    "            #time=time+np.random.normal(1,0.0)\n",
    "\n",
    "            #machining\n",
    "            mt=np.random.uniform(5,7)\n",
    "            #mt=np.random.normal(6.5,0.0)\n",
    "\n",
    "            if inMaintenance[currentMachine]:\n",
    "                mtimes[currentMachine]=time+mt+maintenanceTime; ## add maintenance time to machine time as well\n",
    "            else:\n",
    "                mtimes[currentMachine]=time+mt;\n",
    "            #inspection\n",
    "            time=time+it\n",
    "            \n",
    "            #travelling to next machine\n",
    "            if time>shiftDuration/2 and not brakeTaken:\n",
    "                tt=breakTime\n",
    "                brakeTaken=True\n",
    "            else:\n",
    "                tt=travelTime\n",
    "            time=time+tt\n",
    "            currentMachine=(currentMachine+1)%m    \n",
    "        prod.append(numberOfItemsProduced)\n",
    "        scrap.append(numberOfItemsScrapped)\n",
    "        damage.append(numberOfItemsDamaged)\n",
    "\n",
    "    return np.mean(prod), np.mean(scrap), np.mean(damage)"
   ]
  },
  {
   "cell_type": "markdown",
   "id": "bd3d8c61",
   "metadata": {},
   "source": [
    "### Part A"
   ]
  },
  {
   "cell_type": "code",
   "execution_count": 6,
   "id": "bafd3d1b",
   "metadata": {},
   "outputs": [
    {
     "data": {
      "text/html": [
       "<div>\n",
       "<style scoped>\n",
       "    .dataframe tbody tr th:only-of-type {\n",
       "        vertical-align: middle;\n",
       "    }\n",
       "\n",
       "    .dataframe tbody tr th {\n",
       "        vertical-align: top;\n",
       "    }\n",
       "\n",
       "    .dataframe thead th {\n",
       "        text-align: right;\n",
       "    }\n",
       "</style>\n",
       "<table border=\"1\" class=\"dataframe\">\n",
       "  <thead>\n",
       "    <tr style=\"text-align: right;\">\n",
       "      <th></th>\n",
       "      <th>m</th>\n",
       "      <th>produced</th>\n",
       "      <th>damaged</th>\n",
       "    </tr>\n",
       "  </thead>\n",
       "  <tbody>\n",
       "    <tr>\n",
       "      <th>0</th>\n",
       "      <td>2</td>\n",
       "      <td>108.365</td>\n",
       "      <td>0.900</td>\n",
       "    </tr>\n",
       "    <tr>\n",
       "      <th>1</th>\n",
       "      <td>3</td>\n",
       "      <td>142.938</td>\n",
       "      <td>1.130</td>\n",
       "    </tr>\n",
       "    <tr>\n",
       "      <th>2</th>\n",
       "      <td>4</td>\n",
       "      <td>149.161</td>\n",
       "      <td>1.229</td>\n",
       "    </tr>\n",
       "    <tr>\n",
       "      <th>3</th>\n",
       "      <td>5</td>\n",
       "      <td>150.317</td>\n",
       "      <td>1.229</td>\n",
       "    </tr>\n",
       "  </tbody>\n",
       "</table>\n",
       "</div>"
      ],
      "text/plain": [
       "   m  produced  damaged\n",
       "0  2   108.365    0.900\n",
       "1  3   142.938    1.130\n",
       "2  4   149.161    1.229\n",
       "3  5   150.317    1.229"
      ]
     },
     "execution_count": 6,
     "metadata": {},
     "output_type": "execute_result"
    }
   ],
   "source": [
    "unitsProduced=[]\n",
    "unitsDamaged=[]\n",
    "for m in range(2,6):\n",
    "    prod,scrap,damage=simulation(m,shiftDuration,stuckProb,maintenanceTime,damageProb,travelTime,successProb);\n",
    "    unitsProduced.append(prod)\n",
    "    unitsDamaged.append(damage)\n",
    "\n",
    "result_dict={\"m\":range(2,6),\"produced\":unitsProduced, \"damaged\":unitsDamaged}\n",
    "table=pd.DataFrame(result_dict)\n",
    "table"
   ]
  },
  {
   "cell_type": "markdown",
   "id": "9832bc7a",
   "metadata": {},
   "source": [
    "### Part B"
   ]
  },
  {
   "cell_type": "code",
   "execution_count": 7,
   "id": "c558a894",
   "metadata": {},
   "outputs": [
    {
     "data": {
      "text/html": [
       "<div>\n",
       "<style scoped>\n",
       "    .dataframe tbody tr th:only-of-type {\n",
       "        vertical-align: middle;\n",
       "    }\n",
       "\n",
       "    .dataframe tbody tr th {\n",
       "        vertical-align: top;\n",
       "    }\n",
       "\n",
       "    .dataframe thead th {\n",
       "        text-align: right;\n",
       "    }\n",
       "</style>\n",
       "<table border=\"1\" class=\"dataframe\">\n",
       "  <thead>\n",
       "    <tr style=\"text-align: right;\">\n",
       "      <th></th>\n",
       "      <th>stuckProb</th>\n",
       "      <th>produced</th>\n",
       "      <th>damaged</th>\n",
       "    </tr>\n",
       "  </thead>\n",
       "  <tbody>\n",
       "    <tr>\n",
       "      <th>0</th>\n",
       "      <td>0.02</td>\n",
       "      <td>142.867</td>\n",
       "      <td>1.166</td>\n",
       "    </tr>\n",
       "    <tr>\n",
       "      <th>1</th>\n",
       "      <td>0.01</td>\n",
       "      <td>148.378</td>\n",
       "      <td>0.619</td>\n",
       "    </tr>\n",
       "  </tbody>\n",
       "</table>\n",
       "</div>"
      ],
      "text/plain": [
       "   stuckProb  produced  damaged\n",
       "0       0.02   142.867    1.166\n",
       "1       0.01   148.378    0.619"
      ]
     },
     "execution_count": 7,
     "metadata": {},
     "output_type": "execute_result"
    }
   ],
   "source": [
    "m = 3\n",
    "prod1,scrap1,damage1=simulation(m,shiftDuration,stuckProb,maintenanceTime,damageProb,travelTime,successProb);\n",
    "prod2,scrap2,damage2=simulation(m,shiftDuration,stuckProb-0.01,maintenanceTime,damageProb,travelTime,successProb);\n",
    "table=pd.DataFrame({'stuckProb':[0.02,0.01],'produced':[prod1,prod2], 'damaged':[damage1,damage2]})\n",
    "table"
   ]
  },
  {
   "cell_type": "markdown",
   "id": "22ce336d",
   "metadata": {},
   "source": [
    "### Part C"
   ]
  },
  {
   "cell_type": "code",
   "execution_count": 8,
   "id": "b7f1eb64",
   "metadata": {},
   "outputs": [
    {
     "data": {
      "text/html": [
       "<div>\n",
       "<style scoped>\n",
       "    .dataframe tbody tr th:only-of-type {\n",
       "        vertical-align: middle;\n",
       "    }\n",
       "\n",
       "    .dataframe tbody tr th {\n",
       "        vertical-align: top;\n",
       "    }\n",
       "\n",
       "    .dataframe thead th {\n",
       "        text-align: right;\n",
       "    }\n",
       "</style>\n",
       "<table border=\"1\" class=\"dataframe\">\n",
       "  <thead>\n",
       "    <tr style=\"text-align: right;\">\n",
       "      <th></th>\n",
       "      <th>successProb</th>\n",
       "      <th>produced</th>\n",
       "      <th>scrap</th>\n",
       "    </tr>\n",
       "  </thead>\n",
       "  <tbody>\n",
       "    <tr>\n",
       "      <th>0</th>\n",
       "      <td>0.985</td>\n",
       "      <td>142.999</td>\n",
       "      <td>2.155</td>\n",
       "    </tr>\n",
       "    <tr>\n",
       "      <th>1</th>\n",
       "      <td>0.995</td>\n",
       "      <td>144.016</td>\n",
       "      <td>0.690</td>\n",
       "    </tr>\n",
       "  </tbody>\n",
       "</table>\n",
       "</div>"
      ],
      "text/plain": [
       "   successProb  produced  scrap\n",
       "0        0.985   142.999  2.155\n",
       "1        0.995   144.016  0.690"
      ]
     },
     "execution_count": 8,
     "metadata": {},
     "output_type": "execute_result"
    }
   ],
   "source": [
    "m = 3\n",
    "prod1,scrap1,damage1=simulation(m,shiftDuration,stuckProb,maintenanceTime,damageProb,travelTime,successProb);\n",
    "prod2,scrap2,damage2=simulation(m,shiftDuration,stuckProb,maintenanceTime,damageProb,travelTime,successProb+0.01);\n",
    "table=pd.DataFrame({'successProb':[0.985,0.995],'produced':[prod1,prod2], 'scrap':[scrap1,scrap2]})\n",
    "table"
   ]
  }
 ],
 "metadata": {
  "kernelspec": {
   "display_name": "Python 3 (ipykernel)",
   "language": "python",
   "name": "python3"
  },
  "language_info": {
   "codemirror_mode": {
    "name": "ipython",
    "version": 3
   },
   "file_extension": ".py",
   "mimetype": "text/x-python",
   "name": "python",
   "nbconvert_exporter": "python",
   "pygments_lexer": "ipython3",
   "version": "3.9.15"
  }
 },
 "nbformat": 4,
 "nbformat_minor": 5
}
