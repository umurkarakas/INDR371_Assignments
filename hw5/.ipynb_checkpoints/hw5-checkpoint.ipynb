{
 "cells": [
  {
   "cell_type": "code",
   "execution_count": 1,
   "id": "a988b418",
   "metadata": {},
   "outputs": [],
   "source": [
    "import numpy as np\n",
    "import pandas as pd\n",
    "import gurobipy as gp\n",
    "from gurobipy import GRB\n",
    "import matplotlib.pyplot as plt\n",
    "%matplotlib inline"
   ]
  },
  {
   "cell_type": "markdown",
   "id": "8afbd7da",
   "metadata": {},
   "source": [
    "## Question 1"
   ]
  },
  {
   "cell_type": "markdown",
   "id": "1ad955fe",
   "metadata": {},
   "source": [
    "### Part A"
   ]
  },
  {
   "cell_type": "code",
   "execution_count": 2,
   "id": "1eef904a",
   "metadata": {},
   "outputs": [
    {
     "name": "stdout",
     "output_type": "stream",
     "text": [
      "Set parameter Username\n",
      "Academic license - for non-commercial use only - expires 2023-10-08\n"
     ]
    }
   ],
   "source": [
    "a = [2,4,3,1,2,4,1,5]\n",
    "b = [3,4,5,3,6,6,5,5]\n",
    "W = [5,10,8,7,6,10,6,5]\n",
    "\n",
    "m = gp.Model(\"q1_parta\")\n",
    "m.ModelSense = GRB.MINIMIZE\n",
    "x = m.addVar(name=\"x\",vtype=GRB.CONTINUOUS)\n",
    "y = m.addVar(name=\"y\",vtype=GRB.CONTINUOUS)\n",
    "r = m.addVars(range(len(a)), name=\"r\",vtype=GRB.CONTINUOUS)\n",
    "s = m.addVars(range(len(b)), name=\"s\",vtype=GRB.CONTINUOUS)\n",
    "m.addConstrs(r[i] >= x - a[i] for i in range(len(a)))\n",
    "m.addConstrs(r[i] >= a[i] - x for i in range(len(a)))\n",
    "m.addConstrs(s[i] >= y - b[i] for i in range(len(b)))\n",
    "m.addConstrs(s[i] >= b[i] - y for i in range(len(b)))\n",
    "m.setObjective(gp.quicksum(W[i]*(r[i]+s[i]) for i in range(len(W))))"
   ]
  },
  {
   "cell_type": "code",
   "execution_count": 3,
   "id": "96724359",
   "metadata": {},
   "outputs": [
    {
     "name": "stdout",
     "output_type": "stream",
     "text": [
      "Gurobi Optimizer version 9.5.2 build v9.5.2rc0 (mac64[arm])\n",
      "Thread count: 8 physical cores, 8 logical processors, using up to 8 threads\n",
      "Optimize a model with 32 rows, 18 columns and 64 nonzeros\n",
      "Model fingerprint: 0xcba38835\n",
      "Coefficient statistics:\n",
      "  Matrix range     [1e+00, 1e+00]\n",
      "  Objective range  [5e+00, 1e+01]\n",
      "  Bounds range     [0e+00, 0e+00]\n",
      "  RHS range        [1e+00, 6e+00]\n",
      "Presolve time: 0.00s\n",
      "Presolved: 32 rows, 18 columns, 64 nonzeros\n",
      "\n",
      "Iteration    Objective       Primal Inf.    Dual Inf.      Time\n",
      "       0    0.0000000e+00   5.900000e+01   0.000000e+00      0s\n",
      "      14    1.1700000e+02   0.000000e+00   0.000000e+00      0s\n",
      "\n",
      "Solved in 14 iterations and 0.01 seconds (0.00 work units)\n",
      "Optimal objective  1.170000000e+02\n"
     ]
    }
   ],
   "source": [
    "m.optimize()"
   ]
  },
  {
   "cell_type": "code",
   "execution_count": 4,
   "id": "bb89f16b",
   "metadata": {},
   "outputs": [
    {
     "name": "stdout",
     "output_type": "stream",
     "text": [
      "3.0\n",
      "5.0\n"
     ]
    }
   ],
   "source": [
    "print(x.X)\n",
    "print(y.X)"
   ]
  },
  {
   "cell_type": "markdown",
   "id": "f6ab0323",
   "metadata": {},
   "source": [
    "### Part B"
   ]
  },
  {
   "cell_type": "code",
   "execution_count": 5,
   "id": "6fb7e61d",
   "metadata": {},
   "outputs": [],
   "source": [
    "m = gp.Model(\"q1_partb\")\n",
    "m.ModelSense = GRB.MINIMIZE\n",
    "x = m.addVar(name=\"x\",vtype=GRB.CONTINUOUS)\n",
    "y = m.addVar(name=\"y\",vtype=GRB.CONTINUOUS)\n",
    "c = m.addVar(name=\"c\",vtype=GRB.CONTINUOUS)\n",
    "r = m.addVars(range(len(a)), name=\"r\",vtype=GRB.CONTINUOUS)\n",
    "s = m.addVars(range(len(b)), name=\"s\",vtype=GRB.CONTINUOUS)\n",
    "m.addConstrs(r[i] >= x - a[i] for i in range(len(a)))\n",
    "m.addConstrs(r[i] >= a[i] - x for i in range(len(a)))\n",
    "m.addConstrs(s[i] >= y - b[i] for i in range(len(b)))\n",
    "m.addConstrs(s[i] >= b[i] - y for i in range(len(b)))\n",
    "m.addConstrs(c >= W[i]*(r[i] + s[i]) for i in range(len(a)))\n",
    "m.setObjective(c)"
   ]
  },
  {
   "cell_type": "code",
   "execution_count": 6,
   "id": "e1a69287",
   "metadata": {},
   "outputs": [
    {
     "name": "stdout",
     "output_type": "stream",
     "text": [
      "Gurobi Optimizer version 9.5.2 build v9.5.2rc0 (mac64[arm])\n",
      "Thread count: 8 physical cores, 8 logical processors, using up to 8 threads\n",
      "Optimize a model with 40 rows, 19 columns and 88 nonzeros\n",
      "Model fingerprint: 0xc5340f07\n",
      "Coefficient statistics:\n",
      "  Matrix range     [1e+00, 1e+01]\n",
      "  Objective range  [1e+00, 1e+00]\n",
      "  Bounds range     [0e+00, 0e+00]\n",
      "  RHS range        [1e+00, 6e+00]\n",
      "Presolve removed 1 rows and 1 columns\n",
      "Presolve time: 0.00s\n",
      "Presolved: 39 rows, 18 columns, 92 nonzeros\n",
      "\n",
      "Iteration    Objective       Primal Inf.    Dual Inf.      Time\n",
      "       0    0.0000000e+00   5.900000e+01   0.000000e+00      0s\n",
      "      14    2.4705882e+01   0.000000e+00   0.000000e+00      0s\n",
      "\n",
      "Solved in 14 iterations and 0.01 seconds (0.00 work units)\n",
      "Optimal objective  2.470588235e+01\n"
     ]
    }
   ],
   "source": [
    "m.optimize()"
   ]
  },
  {
   "cell_type": "code",
   "execution_count": 7,
   "id": "e0a59a04",
   "metadata": {},
   "outputs": [
    {
     "name": "stdout",
     "output_type": "stream",
     "text": [
      "2.529411764705882\n",
      "5.0\n"
     ]
    }
   ],
   "source": [
    "print(x.X)\n",
    "print(y.X)"
   ]
  },
  {
   "cell_type": "markdown",
   "id": "6ebe38f9",
   "metadata": {},
   "source": [
    "## Part C"
   ]
  },
  {
   "cell_type": "code",
   "execution_count": 20,
   "id": "9d3814bb",
   "metadata": {},
   "outputs": [],
   "source": [
    "m = gp.Model(\"q1_partc\")\n",
    "m.ModelSense = GRB.MINIMIZE\n",
    "x = m.addVars(range(2), name=\"x\",vtype=GRB.INTEGER)\n",
    "y = m.addVars(range(2), name=\"y\",vtype=GRB.INTEGER)\n",
    "z = m.addVars(range(2), range(len(a)), name=\"z\", vtype=GRB.BINARY)\n",
    "r = m.addVars(range(2), range(8), name=\"r\",vtype=GRB.CONTINUOUS)\n",
    "s = m.addVars(range(2), range(8), name=\"s\",vtype=GRB.CONTINUOUS)\n",
    "c = m.addVars(range(2), name=\"c\", vtype=GRB.CONTINUOUS)\n",
    "\n",
    "m.addConstrs((gp.quicksum(z[i,j] for i in range(2)) == 1) for j in range(len(a)))\n",
    "m.addConstrs(r[i,j] >= x[i] - a[j] for i in range(2) for j in range(len(a)))\n",
    "m.addConstrs(r[i,j] >= a[j] - x[i] for i in range(2) for j in range(len(a)))\n",
    "m.addConstrs(s[i,j] >= y[i] - b[j] for i in range(2) for j in range(len(b)))\n",
    "m.addConstrs(s[i,j] >= b[j] - y[i] for i in range(2) for j in range(len(b)))\n",
    "m.addConstrs(c[i] >= z[i,j]*W[j]*(r[i,j] + s[i,j]) for i in range(2) for j in range(len(a)))\n",
    "m.setObjective(gp.quicksum(c[i] for i in range(2)))"
   ]
  },
  {
   "cell_type": "code",
   "execution_count": 21,
   "id": "c49399b4",
   "metadata": {
    "scrolled": true
   },
   "outputs": [
    {
     "name": "stdout",
     "output_type": "stream",
     "text": [
      "Gurobi Optimizer version 9.5.2 build v9.5.2rc0 (mac64[arm])\n",
      "Thread count: 8 physical cores, 8 logical processors, using up to 8 threads\n",
      "Optimize a model with 72 rows, 54 columns and 144 nonzeros\n",
      "Model fingerprint: 0x42116cc0\n",
      "Model has 16 quadratic constraints\n",
      "Variable types: 34 continuous, 20 integer (16 binary)\n",
      "Coefficient statistics:\n",
      "  Matrix range     [1e+00, 1e+00]\n",
      "  QMatrix range    [5e+00, 1e+01]\n",
      "  QLMatrix range   [1e+00, 1e+00]\n",
      "  Objective range  [1e+00, 1e+00]\n",
      "  Bounds range     [1e+00, 1e+00]\n",
      "  RHS range        [1e+00, 6e+00]\n",
      "Presolve removed 22 rows and 8 columns\n",
      "Presolve time: 0.00s\n",
      "Presolved: 130 rows, 142 columns, 324 nonzeros\n",
      "Presolved model has 64 SOS constraint(s)\n",
      "Variable types: 98 continuous, 44 integer (40 binary)\n",
      "Found heuristic solution: objective 82.0000000\n",
      "\n",
      "Root relaxation: objective 0.000000e+00, 43 iterations, 0.00 seconds (0.00 work units)\n",
      "\n",
      "    Nodes    |    Current Node    |     Objective Bounds      |     Work\n",
      " Expl Unexpl |  Obj  Depth IntInf | Incumbent    BestBd   Gap | It/Node Time\n",
      "\n",
      "     0     0    0.00000    0   12   82.00000    0.00000   100%     -    0s\n",
      "H    0     0                      23.0000000    0.00000   100%     -    0s\n",
      "H    0     0                      20.0000000   10.00000  50.0%     -    0s\n",
      "     0     0   10.00000    0   19   20.00000   10.00000  50.0%     -    0s\n",
      "     0     0   11.62791    0   18   20.00000   11.62791  41.9%     -    0s\n",
      "     0     0   11.62791    0   18   20.00000   11.62791  41.9%     -    0s\n",
      "     0     0   16.66667    0   34   20.00000   16.66667  16.7%     -    0s\n",
      "     0     0   20.00000    0   34   20.00000   20.00000  0.00%     -    0s\n",
      "\n",
      "Cutting planes:\n",
      "  Gomory: 6\n",
      "  MIR: 10\n",
      "  Flow cover: 2\n",
      "  RLT: 7\n",
      "\n",
      "Explored 1 nodes (158 simplex iterations) in 0.03 seconds (0.00 work units)\n",
      "Thread count was 8 (of 8 available processors)\n",
      "\n",
      "Solution count 3: 20 23 82 \n",
      "\n",
      "Optimal solution found (tolerance 1.00e-04)\n",
      "Best objective 2.000000000000e+01, best bound 2.000000000000e+01, gap 0.0000%\n"
     ]
    }
   ],
   "source": [
    "m.optimize()"
   ]
  },
  {
   "cell_type": "code",
   "execution_count": 26,
   "id": "936eadb8",
   "metadata": {},
   "outputs": [
    {
     "name": "stdout",
     "output_type": "stream",
     "text": [
      "First fire station location:  (1.0,3.0)\n",
      "Second fire station location: (4.0,5.0)\n"
     ]
    }
   ],
   "source": [
    "print(\"First fire station location:  ({},{})\".format(x[0].X, y[0].X))\n",
    "print(\"Second fire station location: ({},{})\".format(x[1].X, y[1].X))"
   ]
  },
  {
   "cell_type": "markdown",
   "id": "7632c5c2",
   "metadata": {},
   "source": [
    "## Question 2"
   ]
  },
  {
   "cell_type": "code",
   "execution_count": 96,
   "id": "def4b699",
   "metadata": {},
   "outputs": [],
   "source": [
    "locations = list(map(chr, range(65, 77)))\n",
    "facilities = [\"D\"+str(i) for i in range(1,13)]\n",
    "flow = pd.DataFrame(np.array([[0,100,50,0,0,0,0,0,0,0,0,0],\n",
    "                 [75,0,50,50,25,0,0,0,0,0,0,0],\n",
    "                 [100,25,0,0,0,0,0,0,0,0,0,0],\n",
    "                 [0,0,50,0,50,0,0,0,0,0,0,0],\n",
    "                 [50,0,50,25,0,0,0,0,0,0,0,0],\n",
    "                 [0,0,0,0,0,0,0,0,0,0,0,0],\n",
    "                 [0,0,0,0,0,0,0,0,0,0,0,0],\n",
    "                 [0,0,0,0,0,0,0,0,0,0,0,0],\n",
    "                 [0,0,0,0,0,0,0,0,0,0,0,0],\n",
    "                 [0,0,0,0,0,0,0,0,0,0,0,0],\n",
    "                 [0,0,0,0,0,0,0,0,0,0,0,0],\n",
    "                 [0,0,0,0,0,0,0,0,0,0,0,0],]),index=facilities,columns=facilities)\n",
    "distance = pd.DataFrame(np.array([[0,1,2,3,1,2,3,4,2,3,4,5],\n",
    "                      [1,0,1,2,2,1,2,3,3,2,3,4],\n",
    "                      [2,1,0,1,3,2,1,2,4,3,2,3],\n",
    "                      [3,2,1,0,4,3,2,1,5,4,3,2],\n",
    "                      [1,2,3,4,0,1,2,3,1,2,3,4],\n",
    "                      [2,1,2,3,1,0,1,2,2,1,2,3],\n",
    "                      [3,2,1,2,2,1,0,1,3,2,1,2],\n",
    "                      [4,3,2,1,3,2,1,0,4,3,2,1],\n",
    "                      [2,3,4,5,1,2,3,4,0,1,2,3],\n",
    "                      [3,2,3,4,2,1,2,3,1,0,1,2],\n",
    "                      [4,3,2,3,3,2,1,2,2,1,0,1],\n",
    "                      [5,4,3,2,4,3,2,1,3,2,1,0]]),index=locations,columns=locations)\n",
    "assignments = [(i,j,r,s) for i in facilities for j in facilities for r in locations for s in locations if i != j and r != s]"
   ]
  },
  {
   "cell_type": "code",
   "execution_count": 118,
   "id": "dbc4fc85",
   "metadata": {},
   "outputs": [],
   "source": [
    "m = gp.Model(\"q2\")\n",
    "m.ModelSense = GRB.MINIMIZE\n",
    "\n",
    "x=m.addVars(facilities, locations, name=\"x\", vtype=GRB.BINARY)\n",
    "c1 = m.addConstrs(gp.quicksum(x[i,r] for i in facilities) == 1 for r in locations)\n",
    "c2 = m.addConstrs(gp.quicksum(x[i,r] for r in locations) == 1 for i in facilities)\n",
    "c3 = m.addConstr(gp.quicksum(distance.at[i,j] * x[\"D1\",i] * x[\"D4\",j] for i in locations for j in locations) >= 2)\n",
    "c4 = m.addConstrs(x[i,r] == 0 for i in [\"D1\", \"D2\", \"D5\"] for r in [\"A\", \"D\", \"L\", \"I\"])\n",
    "c5 = m.addConstrs(x[\"D3\",r] == 0 for r in locations if (r in [\"A\", \"D\", \"L\", \"I\"]) == False) \n",
    "m.setObjective(gp.quicksum((flow.at[i,j]*distance.at[r,s] + flow.at[j,i]*distance.at[s,r])*x[i,r]*x[j,s] for i in facilities for j in facilities for r in locations for s in locations if i != j and r != s))"
   ]
  },
  {
   "cell_type": "code",
   "execution_count": 119,
   "id": "b105372a",
   "metadata": {},
   "outputs": [
    {
     "name": "stdout",
     "output_type": "stream",
     "text": [
      "Gurobi Optimizer version 9.5.2 build v9.5.2rc0 (mac64[arm])\n",
      "Thread count: 8 physical cores, 8 logical processors, using up to 8 threads\n",
      "Optimize a model with 44 rows, 144 columns and 308 nonzeros\n",
      "Model fingerprint: 0xf68995fe\n",
      "Model has 1188 quadratic objective terms\n",
      "Model has 1 quadratic constraint\n",
      "Variable types: 0 continuous, 144 integer (144 binary)\n",
      "Coefficient statistics:\n",
      "  Matrix range     [1e+00, 1e+00]\n",
      "  QMatrix range    [1e+00, 5e+00]\n",
      "  Objective range  [0e+00, 0e+00]\n",
      "  QObjective range [1e+02, 4e+03]\n",
      "  Bounds range     [1e+00, 1e+00]\n",
      "  RHS range        [1e+00, 1e+00]\n",
      "  QRHS range       [2e+00, 2e+00]\n",
      "Presolve removed 20 rows and 20 columns\n",
      "Presolve time: 0.00s\n",
      "Presolved: 685 rows, 696 columns, 2140 nonzeros\n",
      "Variable types: 0 continuous, 696 integer (696 binary)\n",
      "Found heuristic solution: objective 3300.0000000\n",
      "Found heuristic solution: objective 2400.0000000\n",
      "\n",
      "Root relaxation: objective 0.000000e+00, 94 iterations, 0.00 seconds (0.00 work units)\n",
      "\n",
      "    Nodes    |    Current Node    |     Objective Bounds      |     Work\n",
      " Expl Unexpl |  Obj  Depth IntInf | Incumbent    BestBd   Gap | It/Node Time\n",
      "\n",
      "     0     0    0.00000    0   14 2400.00000    0.00000   100%     -    0s\n",
      "H    0     0                    2050.0000000    0.00000   100%     -    0s\n",
      "     0     0    0.00000    0   24 2050.00000    0.00000   100%     -    0s\n",
      "H    0     0                    1850.0000000    0.00000   100%     -    0s\n",
      "     0     0  925.00000    0   22 1850.00000  925.00000  50.0%     -    0s\n",
      "     0     0 1541.66667    0   33 1850.00000 1541.66667  16.7%     -    0s\n",
      "     0     0 1541.66667    0   11 1850.00000 1541.66667  16.7%     -    0s\n",
      "     0     0 1541.66667    0   12 1850.00000 1541.66667  16.7%     -    0s\n",
      "     0     0 1850.00000    0   47 1850.00000 1850.00000  0.00%     -    0s\n",
      "\n",
      "Cutting planes:\n",
      "  Clique: 3\n",
      "  RLT: 30\n",
      "\n",
      "Explored 1 nodes (1073 simplex iterations) in 0.10 seconds (0.06 work units)\n",
      "Thread count was 8 (of 8 available processors)\n",
      "\n",
      "Solution count 5: 1850 2050 2300 ... 3300\n",
      "\n",
      "Optimal solution found (tolerance 1.00e-04)\n",
      "Best objective 1.850000000000e+03, best bound 1.850000000000e+03, gap 0.0000%\n"
     ]
    }
   ],
   "source": [
    "m.optimize()"
   ]
  },
  {
   "cell_type": "code",
   "execution_count": 27,
   "id": "9d0d9e72",
   "metadata": {},
   "outputs": [
    {
     "ename": "ValueError",
     "evalue": "Shape of passed values is (5, 12), indices imply (5, 5)",
     "output_type": "error",
     "traceback": [
      "\u001b[0;31m---------------------------------------------------------------------------\u001b[0m",
      "\u001b[0;31mValueError\u001b[0m                                Traceback (most recent call last)",
      "Cell \u001b[0;32mIn [27], line 3\u001b[0m\n\u001b[1;32m      1\u001b[0m locations \u001b[38;5;241m=\u001b[39m \u001b[38;5;28mlist\u001b[39m(\u001b[38;5;28mmap\u001b[39m(\u001b[38;5;28mchr\u001b[39m, \u001b[38;5;28mrange\u001b[39m(\u001b[38;5;241m65\u001b[39m, \u001b[38;5;241m77\u001b[39m)))\n\u001b[1;32m      2\u001b[0m facilities \u001b[38;5;241m=\u001b[39m [\u001b[38;5;124m\"\u001b[39m\u001b[38;5;124mD\u001b[39m\u001b[38;5;124m\"\u001b[39m\u001b[38;5;241m+\u001b[39m\u001b[38;5;28mstr\u001b[39m(i) \u001b[38;5;28;01mfor\u001b[39;00m i \u001b[38;5;129;01min\u001b[39;00m \u001b[38;5;28mrange\u001b[39m(\u001b[38;5;241m1\u001b[39m,\u001b[38;5;241m6\u001b[39m)]\n\u001b[0;32m----> 3\u001b[0m flow \u001b[38;5;241m=\u001b[39m \u001b[43mpd\u001b[49m\u001b[38;5;241;43m.\u001b[39;49m\u001b[43mDataFrame\u001b[49m\u001b[43m(\u001b[49m\u001b[43mnp\u001b[49m\u001b[38;5;241;43m.\u001b[39;49m\u001b[43marray\u001b[49m\u001b[43m(\u001b[49m\u001b[43m[\u001b[49m\u001b[43m[\u001b[49m\u001b[38;5;241;43m0\u001b[39;49m\u001b[43m,\u001b[49m\u001b[38;5;241;43m100\u001b[39;49m\u001b[43m,\u001b[49m\u001b[38;5;241;43m50\u001b[39;49m\u001b[43m,\u001b[49m\u001b[38;5;241;43m0\u001b[39;49m\u001b[43m,\u001b[49m\u001b[38;5;241;43m0\u001b[39;49m\u001b[43m,\u001b[49m\u001b[38;5;241;43m0\u001b[39;49m\u001b[43m,\u001b[49m\u001b[38;5;241;43m0\u001b[39;49m\u001b[43m,\u001b[49m\u001b[38;5;241;43m0\u001b[39;49m\u001b[43m,\u001b[49m\u001b[38;5;241;43m0\u001b[39;49m\u001b[43m,\u001b[49m\u001b[38;5;241;43m0\u001b[39;49m\u001b[43m,\u001b[49m\u001b[38;5;241;43m0\u001b[39;49m\u001b[43m,\u001b[49m\u001b[38;5;241;43m0\u001b[39;49m\u001b[43m]\u001b[49m\u001b[43m,\u001b[49m\n\u001b[1;32m      4\u001b[0m \u001b[43m                 \u001b[49m\u001b[43m[\u001b[49m\u001b[38;5;241;43m75\u001b[39;49m\u001b[43m,\u001b[49m\u001b[38;5;241;43m0\u001b[39;49m\u001b[43m,\u001b[49m\u001b[38;5;241;43m50\u001b[39;49m\u001b[43m,\u001b[49m\u001b[38;5;241;43m50\u001b[39;49m\u001b[43m,\u001b[49m\u001b[38;5;241;43m25\u001b[39;49m\u001b[43m,\u001b[49m\u001b[38;5;241;43m0\u001b[39;49m\u001b[43m,\u001b[49m\u001b[38;5;241;43m0\u001b[39;49m\u001b[43m,\u001b[49m\u001b[38;5;241;43m0\u001b[39;49m\u001b[43m,\u001b[49m\u001b[38;5;241;43m0\u001b[39;49m\u001b[43m,\u001b[49m\u001b[38;5;241;43m0\u001b[39;49m\u001b[43m,\u001b[49m\u001b[38;5;241;43m0\u001b[39;49m\u001b[43m,\u001b[49m\u001b[38;5;241;43m0\u001b[39;49m\u001b[43m]\u001b[49m\u001b[43m,\u001b[49m\n\u001b[1;32m      5\u001b[0m \u001b[43m                 \u001b[49m\u001b[43m[\u001b[49m\u001b[38;5;241;43m100\u001b[39;49m\u001b[43m,\u001b[49m\u001b[38;5;241;43m25\u001b[39;49m\u001b[43m,\u001b[49m\u001b[38;5;241;43m0\u001b[39;49m\u001b[43m,\u001b[49m\u001b[38;5;241;43m0\u001b[39;49m\u001b[43m,\u001b[49m\u001b[38;5;241;43m0\u001b[39;49m\u001b[43m,\u001b[49m\u001b[38;5;241;43m0\u001b[39;49m\u001b[43m,\u001b[49m\u001b[38;5;241;43m0\u001b[39;49m\u001b[43m,\u001b[49m\u001b[38;5;241;43m0\u001b[39;49m\u001b[43m,\u001b[49m\u001b[38;5;241;43m0\u001b[39;49m\u001b[43m,\u001b[49m\u001b[38;5;241;43m0\u001b[39;49m\u001b[43m,\u001b[49m\u001b[38;5;241;43m0\u001b[39;49m\u001b[43m,\u001b[49m\u001b[38;5;241;43m0\u001b[39;49m\u001b[43m]\u001b[49m\u001b[43m,\u001b[49m\n\u001b[1;32m      6\u001b[0m \u001b[43m                 \u001b[49m\u001b[43m[\u001b[49m\u001b[38;5;241;43m0\u001b[39;49m\u001b[43m,\u001b[49m\u001b[38;5;241;43m0\u001b[39;49m\u001b[43m,\u001b[49m\u001b[38;5;241;43m50\u001b[39;49m\u001b[43m,\u001b[49m\u001b[38;5;241;43m0\u001b[39;49m\u001b[43m,\u001b[49m\u001b[38;5;241;43m50\u001b[39;49m\u001b[43m,\u001b[49m\u001b[38;5;241;43m0\u001b[39;49m\u001b[43m,\u001b[49m\u001b[38;5;241;43m0\u001b[39;49m\u001b[43m,\u001b[49m\u001b[38;5;241;43m0\u001b[39;49m\u001b[43m,\u001b[49m\u001b[38;5;241;43m0\u001b[39;49m\u001b[43m,\u001b[49m\u001b[38;5;241;43m0\u001b[39;49m\u001b[43m,\u001b[49m\u001b[38;5;241;43m0\u001b[39;49m\u001b[43m,\u001b[49m\u001b[38;5;241;43m0\u001b[39;49m\u001b[43m]\u001b[49m\u001b[43m,\u001b[49m\n\u001b[1;32m      7\u001b[0m \u001b[43m                 \u001b[49m\u001b[43m[\u001b[49m\u001b[38;5;241;43m50\u001b[39;49m\u001b[43m,\u001b[49m\u001b[38;5;241;43m0\u001b[39;49m\u001b[43m,\u001b[49m\u001b[38;5;241;43m50\u001b[39;49m\u001b[43m,\u001b[49m\u001b[38;5;241;43m25\u001b[39;49m\u001b[43m,\u001b[49m\u001b[38;5;241;43m0\u001b[39;49m\u001b[43m,\u001b[49m\u001b[38;5;241;43m0\u001b[39;49m\u001b[43m,\u001b[49m\u001b[38;5;241;43m0\u001b[39;49m\u001b[43m,\u001b[49m\u001b[38;5;241;43m0\u001b[39;49m\u001b[43m,\u001b[49m\u001b[38;5;241;43m0\u001b[39;49m\u001b[43m,\u001b[49m\u001b[38;5;241;43m0\u001b[39;49m\u001b[43m,\u001b[49m\u001b[38;5;241;43m0\u001b[39;49m\u001b[43m,\u001b[49m\u001b[38;5;241;43m0\u001b[39;49m\u001b[43m]\u001b[49m\u001b[43m]\u001b[49m\u001b[43m)\u001b[49m\u001b[43m,\u001b[49m\u001b[43mindex\u001b[49m\u001b[38;5;241;43m=\u001b[39;49m\u001b[43mfacilities\u001b[49m\u001b[43m,\u001b[49m\u001b[43mcolumns\u001b[49m\u001b[38;5;241;43m=\u001b[39;49m\u001b[43mfacilities\u001b[49m\u001b[43m)\u001b[49m\n\u001b[1;32m      8\u001b[0m distance \u001b[38;5;241m=\u001b[39m pd\u001b[38;5;241m.\u001b[39mDataFrame(np\u001b[38;5;241m.\u001b[39marray([[\u001b[38;5;241m0\u001b[39m,\u001b[38;5;241m1\u001b[39m,\u001b[38;5;241m2\u001b[39m,\u001b[38;5;241m3\u001b[39m,\u001b[38;5;241m1\u001b[39m,\u001b[38;5;241m2\u001b[39m,\u001b[38;5;241m3\u001b[39m,\u001b[38;5;241m4\u001b[39m,\u001b[38;5;241m2\u001b[39m,\u001b[38;5;241m3\u001b[39m,\u001b[38;5;241m4\u001b[39m,\u001b[38;5;241m5\u001b[39m],\n\u001b[1;32m      9\u001b[0m                       [\u001b[38;5;241m1\u001b[39m,\u001b[38;5;241m0\u001b[39m,\u001b[38;5;241m1\u001b[39m,\u001b[38;5;241m2\u001b[39m,\u001b[38;5;241m2\u001b[39m,\u001b[38;5;241m1\u001b[39m,\u001b[38;5;241m2\u001b[39m,\u001b[38;5;241m3\u001b[39m,\u001b[38;5;241m3\u001b[39m,\u001b[38;5;241m2\u001b[39m,\u001b[38;5;241m3\u001b[39m,\u001b[38;5;241m4\u001b[39m],\n\u001b[1;32m     10\u001b[0m                       [\u001b[38;5;241m2\u001b[39m,\u001b[38;5;241m1\u001b[39m,\u001b[38;5;241m0\u001b[39m,\u001b[38;5;241m1\u001b[39m,\u001b[38;5;241m3\u001b[39m,\u001b[38;5;241m2\u001b[39m,\u001b[38;5;241m1\u001b[39m,\u001b[38;5;241m2\u001b[39m,\u001b[38;5;241m4\u001b[39m,\u001b[38;5;241m3\u001b[39m,\u001b[38;5;241m2\u001b[39m,\u001b[38;5;241m3\u001b[39m],\n\u001b[0;32m   (...)\u001b[0m\n\u001b[1;32m     18\u001b[0m                       [\u001b[38;5;241m4\u001b[39m,\u001b[38;5;241m3\u001b[39m,\u001b[38;5;241m2\u001b[39m,\u001b[38;5;241m3\u001b[39m,\u001b[38;5;241m3\u001b[39m,\u001b[38;5;241m2\u001b[39m,\u001b[38;5;241m1\u001b[39m,\u001b[38;5;241m2\u001b[39m,\u001b[38;5;241m2\u001b[39m,\u001b[38;5;241m1\u001b[39m,\u001b[38;5;241m0\u001b[39m,\u001b[38;5;241m1\u001b[39m],\n\u001b[1;32m     19\u001b[0m                       [\u001b[38;5;241m5\u001b[39m,\u001b[38;5;241m4\u001b[39m,\u001b[38;5;241m3\u001b[39m,\u001b[38;5;241m2\u001b[39m,\u001b[38;5;241m4\u001b[39m,\u001b[38;5;241m3\u001b[39m,\u001b[38;5;241m2\u001b[39m,\u001b[38;5;241m1\u001b[39m,\u001b[38;5;241m3\u001b[39m,\u001b[38;5;241m2\u001b[39m,\u001b[38;5;241m1\u001b[39m,\u001b[38;5;241m0\u001b[39m]]),index\u001b[38;5;241m=\u001b[39mlocations,columns\u001b[38;5;241m=\u001b[39mlocations)\n\u001b[1;32m     20\u001b[0m assignments \u001b[38;5;241m=\u001b[39m [(i,j,r,s) \u001b[38;5;28;01mfor\u001b[39;00m i \u001b[38;5;129;01min\u001b[39;00m facilities \u001b[38;5;28;01mfor\u001b[39;00m j \u001b[38;5;129;01min\u001b[39;00m facilities \u001b[38;5;28;01mfor\u001b[39;00m r \u001b[38;5;129;01min\u001b[39;00m locations \u001b[38;5;28;01mfor\u001b[39;00m s \u001b[38;5;129;01min\u001b[39;00m locations \u001b[38;5;28;01mif\u001b[39;00m i \u001b[38;5;241m!=\u001b[39m j \u001b[38;5;129;01mand\u001b[39;00m r \u001b[38;5;241m!=\u001b[39m s]\n",
      "File \u001b[0;32m~/miniconda3/lib/python3.9/site-packages/pandas/core/frame.py:721\u001b[0m, in \u001b[0;36mDataFrame.__init__\u001b[0;34m(self, data, index, columns, dtype, copy)\u001b[0m\n\u001b[1;32m    711\u001b[0m         mgr \u001b[38;5;241m=\u001b[39m dict_to_mgr(\n\u001b[1;32m    712\u001b[0m             \u001b[38;5;66;03m# error: Item \"ndarray\" of \"Union[ndarray, Series, Index]\" has no\u001b[39;00m\n\u001b[1;32m    713\u001b[0m             \u001b[38;5;66;03m# attribute \"name\"\u001b[39;00m\n\u001b[0;32m   (...)\u001b[0m\n\u001b[1;32m    718\u001b[0m             typ\u001b[38;5;241m=\u001b[39mmanager,\n\u001b[1;32m    719\u001b[0m         )\n\u001b[1;32m    720\u001b[0m     \u001b[38;5;28;01melse\u001b[39;00m:\n\u001b[0;32m--> 721\u001b[0m         mgr \u001b[38;5;241m=\u001b[39m \u001b[43mndarray_to_mgr\u001b[49m\u001b[43m(\u001b[49m\n\u001b[1;32m    722\u001b[0m \u001b[43m            \u001b[49m\u001b[43mdata\u001b[49m\u001b[43m,\u001b[49m\n\u001b[1;32m    723\u001b[0m \u001b[43m            \u001b[49m\u001b[43mindex\u001b[49m\u001b[43m,\u001b[49m\n\u001b[1;32m    724\u001b[0m \u001b[43m            \u001b[49m\u001b[43mcolumns\u001b[49m\u001b[43m,\u001b[49m\n\u001b[1;32m    725\u001b[0m \u001b[43m            \u001b[49m\u001b[43mdtype\u001b[49m\u001b[38;5;241;43m=\u001b[39;49m\u001b[43mdtype\u001b[49m\u001b[43m,\u001b[49m\n\u001b[1;32m    726\u001b[0m \u001b[43m            \u001b[49m\u001b[43mcopy\u001b[49m\u001b[38;5;241;43m=\u001b[39;49m\u001b[43mcopy\u001b[49m\u001b[43m,\u001b[49m\n\u001b[1;32m    727\u001b[0m \u001b[43m            \u001b[49m\u001b[43mtyp\u001b[49m\u001b[38;5;241;43m=\u001b[39;49m\u001b[43mmanager\u001b[49m\u001b[43m,\u001b[49m\n\u001b[1;32m    728\u001b[0m \u001b[43m        \u001b[49m\u001b[43m)\u001b[49m\n\u001b[1;32m    730\u001b[0m \u001b[38;5;66;03m# For data is list-like, or Iterable (will consume into list)\u001b[39;00m\n\u001b[1;32m    731\u001b[0m \u001b[38;5;28;01melif\u001b[39;00m is_list_like(data):\n",
      "File \u001b[0;32m~/miniconda3/lib/python3.9/site-packages/pandas/core/internals/construction.py:349\u001b[0m, in \u001b[0;36mndarray_to_mgr\u001b[0;34m(values, index, columns, dtype, copy, typ)\u001b[0m\n\u001b[1;32m    344\u001b[0m \u001b[38;5;66;03m# _prep_ndarraylike ensures that values.ndim == 2 at this point\u001b[39;00m\n\u001b[1;32m    345\u001b[0m index, columns \u001b[38;5;241m=\u001b[39m _get_axes(\n\u001b[1;32m    346\u001b[0m     values\u001b[38;5;241m.\u001b[39mshape[\u001b[38;5;241m0\u001b[39m], values\u001b[38;5;241m.\u001b[39mshape[\u001b[38;5;241m1\u001b[39m], index\u001b[38;5;241m=\u001b[39mindex, columns\u001b[38;5;241m=\u001b[39mcolumns\n\u001b[1;32m    347\u001b[0m )\n\u001b[0;32m--> 349\u001b[0m \u001b[43m_check_values_indices_shape_match\u001b[49m\u001b[43m(\u001b[49m\u001b[43mvalues\u001b[49m\u001b[43m,\u001b[49m\u001b[43m \u001b[49m\u001b[43mindex\u001b[49m\u001b[43m,\u001b[49m\u001b[43m \u001b[49m\u001b[43mcolumns\u001b[49m\u001b[43m)\u001b[49m\n\u001b[1;32m    351\u001b[0m \u001b[38;5;28;01mif\u001b[39;00m typ \u001b[38;5;241m==\u001b[39m \u001b[38;5;124m\"\u001b[39m\u001b[38;5;124marray\u001b[39m\u001b[38;5;124m\"\u001b[39m:\n\u001b[1;32m    353\u001b[0m     \u001b[38;5;28;01mif\u001b[39;00m \u001b[38;5;28missubclass\u001b[39m(values\u001b[38;5;241m.\u001b[39mdtype\u001b[38;5;241m.\u001b[39mtype, \u001b[38;5;28mstr\u001b[39m):\n",
      "File \u001b[0;32m~/miniconda3/lib/python3.9/site-packages/pandas/core/internals/construction.py:420\u001b[0m, in \u001b[0;36m_check_values_indices_shape_match\u001b[0;34m(values, index, columns)\u001b[0m\n\u001b[1;32m    418\u001b[0m passed \u001b[38;5;241m=\u001b[39m values\u001b[38;5;241m.\u001b[39mshape\n\u001b[1;32m    419\u001b[0m implied \u001b[38;5;241m=\u001b[39m (\u001b[38;5;28mlen\u001b[39m(index), \u001b[38;5;28mlen\u001b[39m(columns))\n\u001b[0;32m--> 420\u001b[0m \u001b[38;5;28;01mraise\u001b[39;00m \u001b[38;5;167;01mValueError\u001b[39;00m(\u001b[38;5;124mf\u001b[39m\u001b[38;5;124m\"\u001b[39m\u001b[38;5;124mShape of passed values is \u001b[39m\u001b[38;5;132;01m{\u001b[39;00mpassed\u001b[38;5;132;01m}\u001b[39;00m\u001b[38;5;124m, indices imply \u001b[39m\u001b[38;5;132;01m{\u001b[39;00mimplied\u001b[38;5;132;01m}\u001b[39;00m\u001b[38;5;124m\"\u001b[39m)\n",
      "\u001b[0;31mValueError\u001b[0m: Shape of passed values is (5, 12), indices imply (5, 5)"
     ]
    }
   ],
   "source": [
    "locations = list(map(chr, range(65, 77)))\n",
    "facilities = [\"D\"+str(i) for i in range(1,6)]\n",
    "flow = pd.DataFrame(np.array([[0,100,50,0,0],\n",
    "                 [75,0,50,50,25],\n",
    "                 [100,25,0,0,0],\n",
    "                 [0,0,50,0,50],\n",
    "                 [50,0,50,25,0]]),index=facilities,columns=facilities)\n",
    "distance = pd.DataFrame(np.array([[0,1,2,3,1,2,3,4,2,3,4,5],\n",
    "                      [1,0,1,2,2,1,2,3,3,2,3,4],\n",
    "                      [2,1,0,1,3,2,1,2,4,3,2,3],\n",
    "                      [3,2,1,0,4,3,2,1,5,4,3,2],\n",
    "                      [1,2,3,4,0,1,2,3,1,2,3,4],\n",
    "                      [2,1,2,3,1,0,1,2,2,1,2,3],\n",
    "                      [3,2,1,2,2,1,0,1,3,2,1,2],\n",
    "                      [4,3,2,1,3,2,1,0,4,3,2,1],\n",
    "                      [2,3,4,5,1,2,3,4,0,1,2,3],\n",
    "                      [3,2,3,4,2,1,2,3,1,0,1,2],\n",
    "                      [4,3,2,3,3,2,1,2,2,1,0,1],\n",
    "                      [5,4,3,2,4,3,2,1,3,2,1,0]]),index=locations,columns=locations)\n",
    "assignments = [(i,j,r,s) for i in facilities for j in facilities for r in locations for s in locations if i != j and r != s]"
   ]
  },
  {
   "cell_type": "code",
   "execution_count": null,
   "id": "69a29b8c",
   "metadata": {},
   "outputs": [],
   "source": [
    "m = gp.Model(\"q2\")\n",
    "m.ModelSense = GRB.MINIMIZE\n",
    "\n",
    "x=m.addVars(facilities, locations, name=\"x\", vtype=GRB.BINARY)\n",
    "c1 = m.addConstrs(gp.quicksum(x[i,r] for i in facilities) == 1 for r in locations)\n",
    "c2 = m.addConstrs(gp.quicksum(x[i,r] for r in locations) == 1 for i in facilities)\n",
    "c3 = m.addConstr(gp.quicksum(distance.at[i,j] * x[\"D1\",i] * x[\"D4\",j] for i in locations for j in locations) >= 2)\n",
    "c4 = m.addConstrs(x[i,r] == 0 for i in [\"D1\", \"D2\", \"D5\"] for r in [\"A\", \"D\", \"L\", \"I\"])\n",
    "c5 = m.addConstrs(x[\"D3\",r] == 0 for r in locations if (r in [\"A\", \"D\", \"L\", \"I\"]) == False) \n",
    "m.setObjective(gp.quicksum((flow.at[i,j]*distance.at[r,s] + flow.at[j,i]*distance.at[s,r])*x[i,r]*x[j,s] for i in facilities for j in facilities for r in locations for s in locations if i != j and r != s))"
   ]
  },
  {
   "cell_type": "code",
   "execution_count": null,
   "id": "4d596e9d",
   "metadata": {},
   "outputs": [],
   "source": [
    "m.optimize()"
   ]
  },
  {
   "cell_type": "code",
   "execution_count": 120,
   "id": "7bc7c352",
   "metadata": {},
   "outputs": [
    {
     "name": "stdout",
     "output_type": "stream",
     "text": [
      "('D1', 'E')\n",
      "('D2', 'F')\n",
      "('D3', 'A')\n",
      "('D4', 'C')\n",
      "('D5', 'B')\n"
     ]
    }
   ],
   "source": [
    "for key in x.keys():\n",
    "    if x[key].X > 0 and key[0] in [\"D1\", \"D2\", \"D3\", \"D4\", \"D5\"]:\n",
    "        print(key)"
   ]
  },
  {
   "cell_type": "code",
   "execution_count": null,
   "id": "519221d8",
   "metadata": {},
   "outputs": [],
   "source": []
  }
 ],
 "metadata": {
  "kernelspec": {
   "display_name": "Python 3 (ipykernel)",
   "language": "python",
   "name": "python3"
  },
  "language_info": {
   "codemirror_mode": {
    "name": "ipython",
    "version": 3
   },
   "file_extension": ".py",
   "mimetype": "text/x-python",
   "name": "python",
   "nbconvert_exporter": "python",
   "pygments_lexer": "ipython3",
   "version": "3.9.15"
  }
 },
 "nbformat": 4,
 "nbformat_minor": 5
}
