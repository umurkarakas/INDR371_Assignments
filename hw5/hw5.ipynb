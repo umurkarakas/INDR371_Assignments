{
 "cells": [
  {
   "cell_type": "code",
   "execution_count": 2,
   "id": "a988b418",
   "metadata": {},
   "outputs": [],
   "source": [
    "import numpy as np\n",
    "import pandas as pd\n",
    "import gurobipy as gp\n",
    "from gurobipy import GRB\n",
    "import matplotlib.pyplot as plt\n",
    "%matplotlib inline"
   ]
  },
  {
   "cell_type": "markdown",
   "id": "8afbd7da",
   "metadata": {},
   "source": [
    "## Question 1"
   ]
  },
  {
   "cell_type": "markdown",
   "id": "1ad955fe",
   "metadata": {},
   "source": [
    "### Part A"
   ]
  },
  {
   "cell_type": "code",
   "execution_count": 3,
   "id": "1eef904a",
   "metadata": {},
   "outputs": [
    {
     "name": "stdout",
     "output_type": "stream",
     "text": [
      "Set parameter Username\n",
      "Academic license - for non-commercial use only - expires 2023-10-08\n"
     ]
    }
   ],
   "source": [
    "a = [2,4,3,1,2,4,1,5]\n",
    "b = [3,4,5,3,6,6,5,5]\n",
    "W = [5,10,8,7,6,10,6,5]\n",
    "\n",
    "m = gp.Model(\"q1_parta\")\n",
    "m.ModelSense = GRB.MINIMIZE\n",
    "x = m.addVar(name=\"x\",vtype=GRB.CONTINUOUS)\n",
    "y = m.addVar(name=\"y\",vtype=GRB.CONTINUOUS)\n",
    "r = m.addVars(range(len(a)), name=\"r\",vtype=GRB.CONTINUOUS)\n",
    "s = m.addVars(range(len(b)), name=\"s\",vtype=GRB.CONTINUOUS)\n",
    "m.addConstrs(r[i] >= x - a[i] for i in range(len(a)))\n",
    "m.addConstrs(r[i] >= a[i] - x for i in range(len(a)))\n",
    "m.addConstrs(s[i] >= y - b[i] for i in range(len(b)))\n",
    "m.addConstrs(s[i] >= b[i] - y for i in range(len(b)))\n",
    "m.setObjective(gp.quicksum(W[i]*(r[i]+s[i]) for i in range(len(W))))"
   ]
  },
  {
   "cell_type": "code",
   "execution_count": 4,
   "id": "96724359",
   "metadata": {},
   "outputs": [
    {
     "name": "stdout",
     "output_type": "stream",
     "text": [
      "Gurobi Optimizer version 9.5.2 build v9.5.2rc0 (mac64[arm])\n",
      "Thread count: 8 physical cores, 8 logical processors, using up to 8 threads\n",
      "Optimize a model with 32 rows, 18 columns and 64 nonzeros\n",
      "Model fingerprint: 0xcba38835\n",
      "Coefficient statistics:\n",
      "  Matrix range     [1e+00, 1e+00]\n",
      "  Objective range  [5e+00, 1e+01]\n",
      "  Bounds range     [0e+00, 0e+00]\n",
      "  RHS range        [1e+00, 6e+00]\n",
      "Presolve time: 0.00s\n",
      "Presolved: 32 rows, 18 columns, 64 nonzeros\n",
      "\n",
      "Iteration    Objective       Primal Inf.    Dual Inf.      Time\n",
      "       0    0.0000000e+00   5.900000e+01   0.000000e+00      0s\n",
      "      14    1.1700000e+02   0.000000e+00   0.000000e+00      0s\n",
      "\n",
      "Solved in 14 iterations and 0.01 seconds (0.00 work units)\n",
      "Optimal objective  1.170000000e+02\n"
     ]
    }
   ],
   "source": [
    "m.optimize()"
   ]
  },
  {
   "cell_type": "code",
   "execution_count": 5,
   "id": "bb89f16b",
   "metadata": {},
   "outputs": [
    {
     "name": "stdout",
     "output_type": "stream",
     "text": [
      "3.0\n",
      "5.0\n"
     ]
    }
   ],
   "source": [
    "print(x.X)\n",
    "print(y.X)"
   ]
  },
  {
   "cell_type": "markdown",
   "id": "f6ab0323",
   "metadata": {},
   "source": [
    "### Part B"
   ]
  },
  {
   "cell_type": "code",
   "execution_count": 6,
   "id": "6fb7e61d",
   "metadata": {},
   "outputs": [],
   "source": [
    "a.append(x.X)\n",
    "b.append(y.X)\n",
    "W.append(np.mean(W))\n",
    "m = gp.Model(\"q1_partb\")\n",
    "m.ModelSense = GRB.MINIMIZE\n",
    "x = m.addVar(name=\"x\",vtype=GRB.CONTINUOUS)\n",
    "y = m.addVar(name=\"y\",vtype=GRB.CONTINUOUS)\n",
    "c = m.addVar(name=\"c\",vtype=GRB.CONTINUOUS)\n",
    "r = m.addVars(range(len(a)), name=\"r\",vtype=GRB.CONTINUOUS)\n",
    "s = m.addVars(range(len(b)), name=\"s\",vtype=GRB.CONTINUOUS)\n",
    "m.addConstrs(r[i] >= x - a[i] for i in range(len(a)))\n",
    "m.addConstrs(r[i] >= a[i] - x for i in range(len(a)))\n",
    "m.addConstrs(s[i] >= y - b[i] for i in range(len(b)))\n",
    "m.addConstrs(s[i] >= b[i] - y for i in range(len(b)))\n",
    "m.addConstrs(c >= W[i]*(r[i] + s[i]) for i in range(len(a)))\n",
    "m.setObjective(c)"
   ]
  },
  {
   "cell_type": "code",
   "execution_count": 7,
   "id": "e1a69287",
   "metadata": {},
   "outputs": [
    {
     "name": "stdout",
     "output_type": "stream",
     "text": [
      "Gurobi Optimizer version 9.5.2 build v9.5.2rc0 (mac64[arm])\n",
      "Thread count: 8 physical cores, 8 logical processors, using up to 8 threads\n",
      "Optimize a model with 45 rows, 21 columns and 99 nonzeros\n",
      "Model fingerprint: 0xb5f01c80\n",
      "Coefficient statistics:\n",
      "  Matrix range     [1e+00, 1e+01]\n",
      "  Objective range  [1e+00, 1e+00]\n",
      "  Bounds range     [0e+00, 0e+00]\n",
      "  RHS range        [1e+00, 6e+00]\n",
      "Presolve removed 1 rows and 1 columns\n",
      "Presolve time: 0.00s\n",
      "Presolved: 44 rows, 20 columns, 104 nonzeros\n",
      "\n",
      "Iteration    Objective       Primal Inf.    Dual Inf.      Time\n",
      "       0    0.0000000e+00   6.700000e+01   0.000000e+00      0s\n",
      "      14    2.4705882e+01   0.000000e+00   0.000000e+00      0s\n",
      "\n",
      "Solved in 14 iterations and 0.00 seconds (0.00 work units)\n",
      "Optimal objective  2.470588235e+01\n"
     ]
    }
   ],
   "source": [
    "m.optimize()"
   ]
  },
  {
   "cell_type": "code",
   "execution_count": 8,
   "id": "e0a59a04",
   "metadata": {},
   "outputs": [
    {
     "name": "stdout",
     "output_type": "stream",
     "text": [
      "2.529411764705882\n",
      "5.0\n"
     ]
    }
   ],
   "source": [
    "print(x.X)\n",
    "print(y.X)"
   ]
  },
  {
   "cell_type": "markdown",
   "id": "6ebe38f9",
   "metadata": {},
   "source": [
    "## Part C"
   ]
  },
  {
   "cell_type": "code",
   "execution_count": 9,
   "id": "9d3814bb",
   "metadata": {},
   "outputs": [],
   "source": [
    "m = gp.Model(\"q1_partc\")\n",
    "m.ModelSense = GRB.MINIMIZE\n",
    "x = m.addVars(range(2), name=\"x\",vtype=GRB.INTEGER)\n",
    "y = m.addVars(range(2), name=\"y\",vtype=GRB.INTEGER)\n",
    "z = m.addVars(range(2), range(len(a)), name=\"z\", vtype=GRB.BINARY)\n",
    "r = m.addVars(range(2), range(len(a)), name=\"r\",vtype=GRB.CONTINUOUS)\n",
    "s = m.addVars(range(2), range(len(a)), name=\"s\",vtype=GRB.CONTINUOUS)\n",
    "c = m.addVars(range(2), name=\"c\", vtype=GRB.CONTINUOUS)\n",
    "\n",
    "m.addConstrs((gp.quicksum(z[i,j] for i in range(2)) == 1) for j in range(len(a)))\n",
    "m.addConstrs(r[i,j] >= x[i] - a[j] for i in range(2) for j in range(len(a)))\n",
    "m.addConstrs(r[i,j] >= a[j] - x[i] for i in range(2) for j in range(len(a)))\n",
    "m.addConstrs(s[i,j] >= y[i] - b[j] for i in range(2) for j in range(len(b)))\n",
    "m.addConstrs(s[i,j] >= b[j] - y[i] for i in range(2) for j in range(len(b)))\n",
    "m.addConstrs(c[i] >= z[i,j]*W[j]*(r[i,j] + s[i,j]) for i in range(2) for j in range(len(a)))\n",
    "m.setObjective(gp.quicksum(c[i] for i in range(2)))"
   ]
  },
  {
   "cell_type": "code",
   "execution_count": 10,
   "id": "c49399b4",
   "metadata": {
    "scrolled": true
   },
   "outputs": [
    {
     "name": "stdout",
     "output_type": "stream",
     "text": [
      "Gurobi Optimizer version 9.5.2 build v9.5.2rc0 (mac64[arm])\n",
      "Thread count: 8 physical cores, 8 logical processors, using up to 8 threads\n",
      "Optimize a model with 81 rows, 60 columns and 162 nonzeros\n",
      "Model fingerprint: 0xf00838ba\n",
      "Model has 18 quadratic constraints\n",
      "Variable types: 38 continuous, 22 integer (18 binary)\n",
      "Coefficient statistics:\n",
      "  Matrix range     [1e+00, 1e+00]\n",
      "  QMatrix range    [5e+00, 1e+01]\n",
      "  QLMatrix range   [1e+00, 1e+00]\n",
      "  Objective range  [1e+00, 1e+00]\n",
      "  Bounds range     [1e+00, 1e+00]\n",
      "  RHS range        [1e+00, 6e+00]\n",
      "Presolve removed 23 rows and 9 columns\n",
      "Presolve time: 0.00s\n",
      "Presolved: 148 rows, 159 columns, 368 nonzeros\n",
      "Presolved model has 72 SOS constraint(s)\n",
      "Variable types: 110 continuous, 49 integer (45 binary)\n",
      "Found heuristic solution: objective 62.0000000\n",
      "\n",
      "Root relaxation: objective 0.000000e+00, 23 iterations, 0.00 seconds (0.00 work units)\n",
      "\n",
      "    Nodes    |    Current Node    |     Objective Bounds      |     Work\n",
      " Expl Unexpl |  Obj  Depth IntInf | Incumbent    BestBd   Gap | It/Node Time\n",
      "\n",
      "     0     0    0.00000    0   13   62.00000    0.00000   100%     -    0s\n",
      "H    0     0                      38.0000000    0.00000   100%     -    0s\n",
      "H    0     0                      35.0000000    0.00000   100%     -    0s\n",
      "H    0     0                      33.0000000   10.00000  69.7%     -    0s\n",
      "     0     0   10.00000    0   23   33.00000   10.00000  69.7%     -    0s\n",
      "H    0     0                      30.0000000   10.00000  66.7%     -    0s\n",
      "H    0     0                      27.0000000   10.00000  63.0%     -    0s\n",
      "     0     0   10.00000    0   23   27.00000   10.00000  63.0%     -    0s\n",
      "H    0     0                      25.0000000   10.00000  60.0%     -    0s\n",
      "H    0     0                      24.0000000   12.92308  46.2%     -    0s\n",
      "H    0     0                      20.0000000   12.92308  35.4%     -    0s\n",
      "     0     0   15.72917    0   32   20.00000   15.72917  21.4%     -    0s\n",
      "     0     0   16.66667    0   31   20.00000   16.66667  16.7%     -    0s\n",
      "     0     0   16.66667    0   33   20.00000   16.66667  16.7%     -    0s\n",
      "\n",
      "Cutting planes:\n",
      "  Gomory: 3\n",
      "  MIR: 17\n",
      "  StrongCG: 3\n",
      "  Flow cover: 4\n",
      "  Mod-K: 3\n",
      "  RLT: 14\n",
      "\n",
      "Explored 1 nodes (134 simplex iterations) in 0.04 seconds (0.01 work units)\n",
      "Thread count was 8 (of 8 available processors)\n",
      "\n",
      "Solution count 9: 20 24 25 ... 62\n",
      "\n",
      "Optimal solution found (tolerance 1.00e-04)\n",
      "Best objective 2.000000000000e+01, best bound 2.000000000000e+01, gap 0.0000%\n"
     ]
    }
   ],
   "source": [
    "m.optimize()"
   ]
  },
  {
   "cell_type": "code",
   "execution_count": 11,
   "id": "936eadb8",
   "metadata": {},
   "outputs": [
    {
     "name": "stdout",
     "output_type": "stream",
     "text": [
      "First fire station location:  (3.0,5.0)\n",
      "Second fire station location: (1.0,3.0)\n"
     ]
    }
   ],
   "source": [
    "print(\"First fire station location:  ({},{})\".format(x[0].X, y[0].X))\n",
    "print(\"Second fire station location: ({},{})\".format(x[1].X, y[1].X))"
   ]
  },
  {
   "cell_type": "markdown",
   "id": "7632c5c2",
   "metadata": {},
   "source": [
    "## Question 2"
   ]
  },
  {
   "cell_type": "code",
   "execution_count": 12,
   "id": "96d0978d",
   "metadata": {},
   "outputs": [],
   "source": [
    "locations = list(map(chr, range(65, 77)))\n",
    "facilities = [\"D\"+str(i) for i in range(1,6)]\n",
    "flow = pd.DataFrame(np.array([[0,100,50,0,0],\n",
    "                 [75,0,50,50,25],\n",
    "                 [100,25,0,0,0],\n",
    "                 [0,0,50,0,50],\n",
    "                 [50,0,50,25,0]]),index=facilities,columns=facilities)\n",
    "distance = pd.DataFrame(np.array([[0,1,2,3,1,2,3,4,2,3,4,5],\n",
    "                      [1,0,1,2,2,1,2,3,3,2,3,4],\n",
    "                      [2,1,0,1,3,2,1,2,4,3,2,3],\n",
    "                      [3,2,1,0,4,3,2,1,5,4,3,2],\n",
    "                      [1,2,3,4,0,1,2,3,1,2,3,4],\n",
    "                      [2,1,2,3,1,0,1,2,2,1,2,3],\n",
    "                      [3,2,1,2,2,1,0,1,3,2,1,2],\n",
    "                      [4,3,2,1,3,2,1,0,4,3,2,1],\n",
    "                      [2,3,4,5,1,2,3,4,0,1,2,3],\n",
    "                      [3,2,3,4,2,1,2,3,1,0,1,2],\n",
    "                      [4,3,2,3,3,2,1,2,2,1,0,1],\n",
    "                      [5,4,3,2,4,3,2,1,3,2,1,0]]),index=locations,columns=locations)\n",
    "assignments = [(i,j,r,s) for i in facilities for j in facilities \n",
    "                for r in locations for s in locations if i != j and r != s]"
   ]
  },
  {
   "cell_type": "code",
   "execution_count": 13,
   "id": "8e879f91",
   "metadata": {},
   "outputs": [
    {
     "data": {
      "text/plain": [
       "['A', 'B', 'C', 'D', 'E', 'F', 'G', 'H', 'I', 'J', 'K', 'L']"
      ]
     },
     "execution_count": 13,
     "metadata": {},
     "output_type": "execute_result"
    }
   ],
   "source": [
    "locations"
   ]
  },
  {
   "cell_type": "code",
   "execution_count": 54,
   "id": "07639117",
   "metadata": {},
   "outputs": [],
   "source": [
    "m = gp.Model(\"q2\")\n",
    "m.ModelSense = GRB.MINIMIZE\n",
    "\n",
    "x=m.addVars(facilities, locations, name=\"x\", vtype=GRB.BINARY)\n",
    "c1 = m.addConstrs(gp.quicksum(x[i,r] for i in facilities) <= 1 for r in locations)\n",
    "c2 = m.addConstrs(gp.quicksum(x[i,r] for r in locations) == 1 for i in facilities)\n",
    "c3 = m.addConstr(gp.quicksum(distance.at[i,j] * x[\"D1\",i] * x[\"D4\",j] for i in locations for j in locations) >= 2)\n",
    "#for loc1 in locations:\n",
    "#    for loc2 in locations:\n",
    "#        if distance.at[loc1, loc2] < 2:\n",
    "#            m.addConstr(x[\"D1\", loc1] + x[\"D4\", loc2] <= 1)\n",
    "c4 = m.addConstrs(x[i,r] == 0 for i in [\"D1\", \"D2\", \"D5\"] for r in [\"A\", \"D\", \"L\", \"I\"])\n",
    "c5 = m.addConstrs(x[\"D3\",r] == 0 for r in locations if (r in [\"A\", \"D\", \"L\", \"I\"]) == False) \n",
    "m.setObjective(gp.quicksum((flow.at[i,j]*distance.at[r,s] + flow.at[j,i]*distance.at[s,r])*x[i,r]*x[j,s] \n",
    "                           for i in facilities for j in facilities for r in locations for s in locations \n",
    "                           if i != j and r != s))"
   ]
  },
  {
   "cell_type": "code",
   "execution_count": 55,
   "id": "65ffbbc6",
   "metadata": {
    "scrolled": true
   },
   "outputs": [
    {
     "name": "stdout",
     "output_type": "stream",
     "text": [
      "Gurobi Optimizer version 9.5.2 build v9.5.2rc0 (mac64[arm])\n",
      "Thread count: 8 physical cores, 8 logical processors, using up to 8 threads\n",
      "Optimize a model with 37 rows, 60 columns and 140 nonzeros\n",
      "Model fingerprint: 0xba0d4197\n",
      "Model has 1188 quadratic objective terms\n",
      "Model has 1 quadratic constraint\n",
      "Variable types: 0 continuous, 60 integer (60 binary)\n",
      "Coefficient statistics:\n",
      "  Matrix range     [1e+00, 1e+00]\n",
      "  QMatrix range    [1e+00, 5e+00]\n",
      "  Objective range  [0e+00, 0e+00]\n",
      "  QObjective range [1e+02, 4e+03]\n",
      "  Bounds range     [1e+00, 1e+00]\n",
      "  RHS range        [1e+00, 1e+00]\n",
      "  QRHS range       [2e+00, 2e+00]\n",
      "Presolve removed 20 rows and 20 columns\n",
      "Presolve time: 0.01s\n",
      "Presolved: 678 rows, 612 columns, 1972 nonzeros\n",
      "Variable types: 0 continuous, 612 integer (612 binary)\n",
      "Found heuristic solution: objective 3300.0000000\n",
      "Found heuristic solution: objective 2450.0000000\n",
      "Found heuristic solution: objective 2400.0000000\n",
      "\n",
      "Root relaxation: objective 0.000000e+00, 113 iterations, 0.00 seconds (0.00 work units)\n",
      "\n",
      "    Nodes    |    Current Node    |     Objective Bounds      |     Work\n",
      " Expl Unexpl |  Obj  Depth IntInf | Incumbent    BestBd   Gap | It/Node Time\n",
      "\n",
      "     0     0    0.00000    0   18 2400.00000    0.00000   100%     -    0s\n",
      "H    0     0                    2200.0000000    0.00000   100%     -    0s\n",
      "     0     0  350.00000    0   18 2200.00000  350.00000  84.1%     -    0s\n",
      "     0     0 1208.33333    0   31 2200.00000 1208.33333  45.1%     -    0s\n",
      "     0     0 1208.33333    0   10 2200.00000 1208.33333  45.1%     -    0s\n",
      "H    0     0                    2100.0000000 1208.33333  42.5%     -    0s\n",
      "     0     0 1208.33333    0   56 2100.00000 1208.33333  42.5%     -    0s\n",
      "H    0     0                    1900.0000000 1208.33333  36.4%     -    0s\n",
      "     0     0 1516.66667    0   19 1900.00000 1516.66667  20.2%     -    0s\n",
      "     0     0 1525.00000    0   17 1900.00000 1525.00000  19.7%     -    0s\n",
      "     0     0 1700.00000    0   37 1900.00000 1700.00000  10.5%     -    0s\n",
      "     0     0 1700.00000    0    8 1900.00000 1700.00000  10.5%     -    0s\n",
      "H    0     0                    1850.0000000 1700.00000  8.11%     -    0s\n",
      "\n",
      "Cutting planes:\n",
      "  Implied bound: 1\n",
      "  MIR: 2\n",
      "  Zero half: 6\n",
      "  RLT: 16\n",
      "  BQP: 1\n",
      "\n",
      "Explored 1 nodes (1088 simplex iterations) in 0.10 seconds (0.06 work units)\n",
      "Thread count was 8 (of 8 available processors)\n",
      "\n",
      "Solution count 9: 1850 1900 2100 ... 3650\n",
      "\n",
      "Optimal solution found (tolerance 1.00e-04)\n",
      "Best objective 1.850000000000e+03, best bound 1.850000000000e+03, gap 0.0000%\n"
     ]
    }
   ],
   "source": [
    "m.optimize()"
   ]
  },
  {
   "cell_type": "code",
   "execution_count": 56,
   "id": "7bc7c352",
   "metadata": {},
   "outputs": [
    {
     "name": "stdout",
     "output_type": "stream",
     "text": [
      "('D1', 'E')\n",
      "('D2', 'F')\n",
      "('D3', 'A')\n",
      "('D4', 'C')\n",
      "('D5', 'B')\n"
     ]
    }
   ],
   "source": [
    "for key in x.keys():\n",
    "    if x[key].X > 0:\n",
    "        print(key)"
   ]
  },
  {
   "cell_type": "code",
   "execution_count": 57,
   "id": "ed6aa883",
   "metadata": {},
   "outputs": [
    {
     "data": {
      "text/html": [
       "<div>\n",
       "<style scoped>\n",
       "    .dataframe tbody tr th:only-of-type {\n",
       "        vertical-align: middle;\n",
       "    }\n",
       "\n",
       "    .dataframe tbody tr th {\n",
       "        vertical-align: top;\n",
       "    }\n",
       "\n",
       "    .dataframe thead th {\n",
       "        text-align: right;\n",
       "    }\n",
       "</style>\n",
       "<table border=\"1\" class=\"dataframe\">\n",
       "  <thead>\n",
       "    <tr style=\"text-align: right;\">\n",
       "      <th></th>\n",
       "      <th>D1</th>\n",
       "      <th>D2</th>\n",
       "      <th>D3</th>\n",
       "      <th>D4</th>\n",
       "      <th>D5</th>\n",
       "    </tr>\n",
       "  </thead>\n",
       "  <tbody>\n",
       "    <tr>\n",
       "      <th>D1</th>\n",
       "      <td>0</td>\n",
       "      <td>100</td>\n",
       "      <td>50</td>\n",
       "      <td>0</td>\n",
       "      <td>0</td>\n",
       "    </tr>\n",
       "    <tr>\n",
       "      <th>D2</th>\n",
       "      <td>75</td>\n",
       "      <td>0</td>\n",
       "      <td>50</td>\n",
       "      <td>50</td>\n",
       "      <td>25</td>\n",
       "    </tr>\n",
       "    <tr>\n",
       "      <th>D3</th>\n",
       "      <td>100</td>\n",
       "      <td>25</td>\n",
       "      <td>0</td>\n",
       "      <td>0</td>\n",
       "      <td>0</td>\n",
       "    </tr>\n",
       "    <tr>\n",
       "      <th>D4</th>\n",
       "      <td>0</td>\n",
       "      <td>0</td>\n",
       "      <td>50</td>\n",
       "      <td>0</td>\n",
       "      <td>50</td>\n",
       "    </tr>\n",
       "    <tr>\n",
       "      <th>D5</th>\n",
       "      <td>50</td>\n",
       "      <td>0</td>\n",
       "      <td>50</td>\n",
       "      <td>25</td>\n",
       "      <td>0</td>\n",
       "    </tr>\n",
       "  </tbody>\n",
       "</table>\n",
       "</div>"
      ],
      "text/plain": [
       "     D1   D2  D3  D4  D5\n",
       "D1    0  100  50   0   0\n",
       "D2   75    0  50  50  25\n",
       "D3  100   25   0   0   0\n",
       "D4    0    0  50   0  50\n",
       "D5   50    0  50  25   0"
      ]
     },
     "execution_count": 57,
     "metadata": {},
     "output_type": "execute_result"
    }
   ],
   "source": [
    "flow"
   ]
  },
  {
   "cell_type": "markdown",
   "id": "7bbe3f70",
   "metadata": {},
   "source": [
    "You can ignore the rest, these are for the plot of mirrored grid location."
   ]
  },
  {
   "cell_type": "code",
   "execution_count": 58,
   "id": "7334cb4b",
   "metadata": {},
   "outputs": [
    {
     "data": {
      "image/png": "[encoded data removed]",
      "text/plain": [
       "<Figure size 800x600 with 1 Axes>"
      ]
     },
     "metadata": {},
     "output_type": "display_data"
    }
   ],
   "source": [
    "ind=0\n",
    "fig, ax = plt.subplots(figsize=(8,6), dpi=100)\n",
    "chr_len = 0.07\n",
    "# draw gridlines\n",
    "ax.grid(which='major', axis='both', linestyle='-', color='k', linewidth=2)\n",
    "ax.set_xticks(np.arange(0, 5, 1))\n",
    "ax.set_yticks(np.arange(0, 4, 1))\n",
    "ax.set_xticklabels([])\n",
    "ax.set_yticklabels([])\n",
    "for i in range(len(locations)):\n",
    "    for key in x.keys():\n",
    "        if x[key].X > 0 and key[0] in [\"D1\", \"D2\", \"D3\", \"D4\", \"D5\"] and key[1] == locations[i]:\n",
    "            x_loc = 0.5+(i%4)\n",
    "            y_loc = 2.5-(i//4)\n",
    "            ax.text(x_loc, y_loc, key[0],\n",
    "                    horizontalalignment='center',\n",
    "                    verticalalignment='center',\n",
    "                    fontdict={'size':16})\n",
    "plt.show()\n",
    "ind+=1\n",
    "fig.savefig(\"image\" +str(ind)+\".png\", dpi=100)"
   ]
  },
  {
   "cell_type": "code",
   "execution_count": 62,
   "id": "5946f5db",
   "metadata": {},
   "outputs": [
    {
     "data": {
      "text/html": [
       "<div>\n",
       "<style scoped>\n",
       "    .dataframe tbody tr th:only-of-type {\n",
       "        vertical-align: middle;\n",
       "    }\n",
       "\n",
       "    .dataframe tbody tr th {\n",
       "        vertical-align: top;\n",
       "    }\n",
       "\n",
       "    .dataframe thead th {\n",
       "        text-align: right;\n",
       "    }\n",
       "</style>\n",
       "<table border=\"1\" class=\"dataframe\">\n",
       "  <thead>\n",
       "    <tr style=\"text-align: right;\">\n",
       "      <th></th>\n",
       "      <th>D1</th>\n",
       "      <th>D2</th>\n",
       "      <th>D3</th>\n",
       "      <th>D4</th>\n",
       "      <th>D5</th>\n",
       "    </tr>\n",
       "  </thead>\n",
       "  <tbody>\n",
       "    <tr>\n",
       "      <th>D1</th>\n",
       "      <td>0</td>\n",
       "      <td>100</td>\n",
       "      <td>50</td>\n",
       "      <td>0</td>\n",
       "      <td>0</td>\n",
       "    </tr>\n",
       "    <tr>\n",
       "      <th>D2</th>\n",
       "      <td>75</td>\n",
       "      <td>0</td>\n",
       "      <td>50</td>\n",
       "      <td>50</td>\n",
       "      <td>25</td>\n",
       "    </tr>\n",
       "    <tr>\n",
       "      <th>D3</th>\n",
       "      <td>100</td>\n",
       "      <td>25</td>\n",
       "      <td>0</td>\n",
       "      <td>0</td>\n",
       "      <td>0</td>\n",
       "    </tr>\n",
       "    <tr>\n",
       "      <th>D4</th>\n",
       "      <td>0</td>\n",
       "      <td>0</td>\n",
       "      <td>50</td>\n",
       "      <td>0</td>\n",
       "      <td>50</td>\n",
       "    </tr>\n",
       "    <tr>\n",
       "      <th>D5</th>\n",
       "      <td>50</td>\n",
       "      <td>0</td>\n",
       "      <td>50</td>\n",
       "      <td>25</td>\n",
       "      <td>0</td>\n",
       "    </tr>\n",
       "  </tbody>\n",
       "</table>\n",
       "</div>"
      ],
      "text/plain": [
       "     D1   D2  D3  D4  D5\n",
       "D1    0  100  50   0   0\n",
       "D2   75    0  50  50  25\n",
       "D3  100   25   0   0   0\n",
       "D4    0    0  50   0  50\n",
       "D5   50    0  50  25   0"
      ]
     },
     "execution_count": 62,
     "metadata": {},
     "output_type": "execute_result"
    }
   ],
   "source": [
    "flow"
   ]
  },
  {
   "cell_type": "code",
   "execution_count": 59,
   "id": "4dbc805a",
   "metadata": {},
   "outputs": [
    {
     "data": {
      "image/png": "[encoded data removed]",
      "text/plain": [
       "<Figure size 800x600 with 1 Axes>"
      ]
     },
     "metadata": {},
     "output_type": "display_data"
    }
   ],
   "source": [
    "fig, ax = plt.subplots(figsize=(8,6), dpi=100)\n",
    "chr_len = 0.07\n",
    "# draw gridlines\n",
    "ax.grid(which='major', axis='both', linestyle='-', color='k', linewidth=2)\n",
    "ax.set_xticks(np.arange(0, 5, 1))\n",
    "ax.set_yticks(np.arange(0, 4, 1))\n",
    "ax.set_xticklabels([])\n",
    "ax.set_yticklabels([])\n",
    "for i in range(len(locations)):\n",
    "    for key in x.keys():\n",
    "        if x[key].X > 0 and key[0] in [\"D1\", \"D2\", \"D3\", \"D4\", \"D5\"] and key[1] == locations[i]:\n",
    "            x_loc = 3.5-(i%4)\n",
    "            y_loc = 2.5-(i//4)\n",
    "            ax.text(x_loc, y_loc, key[0],\n",
    "                    horizontalalignment='center',\n",
    "                    verticalalignment='center',\n",
    "                    fontdict={'size':16})\n",
    "plt.show()\n",
    "ind+=1\n",
    "fig.savefig(\"image\" +str(ind)+\".png\", dpi=100)"
   ]
  },
  {
   "cell_type": "code",
   "execution_count": 60,
   "id": "b92a447c",
   "metadata": {},
   "outputs": [
    {
     "data": {
      "image/png": "[encoded data removed]",
      "text/plain": [
       "<Figure size 800x600 with 1 Axes>"
      ]
     },
     "metadata": {},
     "output_type": "display_data"
    }
   ],
   "source": [
    "fig, ax = plt.subplots(figsize=(8,6), dpi=100)\n",
    "chr_len = 0.07\n",
    "# draw gridlines\n",
    "ax.grid(which='major', axis='both', linestyle='-', color='k', linewidth=2)\n",
    "ax.set_xticks(np.arange(0, 5, 1))\n",
    "ax.set_yticks(np.arange(0, 4, 1))\n",
    "ax.set_xticklabels([])\n",
    "ax.set_yticklabels([])\n",
    "for i in range(len(locations)):\n",
    "    for key in x.keys():\n",
    "        if x[key].X > 0 and key[0] in [\"D1\", \"D2\", \"D3\", \"D4\", \"D5\"] and key[1] == locations[i]:\n",
    "            x_loc = 3.5-(i%4)\n",
    "            y_loc = 0.5+(i//4)\n",
    "            ax.text(x_loc, y_loc, key[0],\n",
    "                    horizontalalignment='center',\n",
    "                    verticalalignment='center',\n",
    "                    fontdict={'size':16})\n",
    "plt.show()\n",
    "ind+=1\n",
    "fig.savefig(\"image\" +str(ind)+\".png\", dpi=100)"
   ]
  },
  {
   "cell_type": "code",
   "execution_count": 61,
   "id": "68bf2554",
   "metadata": {},
   "outputs": [
    {
     "data": {
      "image/png": "[encoded data removed]",
      "text/plain": [
       "<Figure size 800x600 with 1 Axes>"
      ]
     },
     "metadata": {},
     "output_type": "display_data"
    }
   ],
   "source": [
    "fig, ax = plt.subplots(figsize=(8,6), dpi=100)\n",
    "chr_len = 0.07\n",
    "# draw gridlines\n",
    "ax.grid(which='major', axis='both', linestyle='-', color='k', linewidth=2)\n",
    "ax.set_xticks(np.arange(0, 5, 1))\n",
    "ax.set_yticks(np.arange(0, 4, 1))\n",
    "ax.set_xticklabels([])\n",
    "ax.set_yticklabels([])\n",
    "for i in range(len(locations)):\n",
    "    for key in x.keys():\n",
    "        if x[key].X > 0 and key[0] in [\"D1\", \"D2\", \"D3\", \"D4\", \"D5\"] and key[1] == locations[i]:\n",
    "            x_loc = 0.5+(i%4)\n",
    "            y_loc = 0.5+(i//4)\n",
    "            ax.text(x_loc, y_loc, key[0],\n",
    "                    horizontalalignment='center',\n",
    "                    verticalalignment='center',\n",
    "                    fontdict={'size':16})\n",
    "plt.show()\n",
    "ind+=1\n",
    "fig.savefig(\"image\" +str(ind)+\".png\", dpi=100)"
   ]
  },
  {
   "cell_type": "code",
   "execution_count": 51,
   "id": "70c61508",
   "metadata": {},
   "outputs": [
    {
     "data": {
      "image/png": "[encoded data removed]",
      "text/plain": [
       "<Figure size 800x600 with 4 Axes>"
      ]
     },
     "metadata": {},
     "output_type": "display_data"
    }
   ],
   "source": [
    "from PIL import Image, ImageDraw\n",
    "f, axarr = plt.subplots(2,2, figsize=(8,6), dpi=100)\n",
    "axarr[0,0].imshow(Image.open(\"image1.png\"))\n",
    "axarr[0,1].imshow(Image.open(\"image2.png\"))\n",
    "axarr[1,0].imshow(Image.open(\"image4.png\"))\n",
    "axarr[1,1].imshow(Image.open(\"image3.png\"))\n",
    "axarr[0,0].get_xaxis().set_visible(False)\n",
    "axarr[0,0].set_frame_on(False)\n",
    "axarr[0,0].get_yaxis().set_visible(False)\n",
    "axarr[0,1].get_xaxis().set_visible(False)\n",
    "axarr[0,1].set_frame_on(False)\n",
    "axarr[0,1].get_yaxis().set_visible(False)\n",
    "axarr[1,0].get_xaxis().set_visible(False)\n",
    "axarr[1,0].set_frame_on(False)\n",
    "axarr[1,0].get_yaxis().set_visible(False)\n",
    "axarr[1,1].get_xaxis().set_visible(False)\n",
    "axarr[1,1].set_frame_on(False)\n",
    "axarr[1,1].get_yaxis().set_visible(False)\n",
    "axarr[0,0].plot([-0.1,2.3], [-0.1, -0.1], color='black', lw=1, transform=axarr[0,0].transAxes, clip_on=False)\n",
    "axarr[0,0].plot([1.1,1.1], [-1.3, 1.1], color='black', lw=1, transform=axarr[0,0].transAxes, clip_on=False)\n",
    "f.savefig(\"output.png\", dpi=200)"
   ]
  }
 ],
 "metadata": {
  "kernelspec": {
   "display_name": "Python 3 (ipykernel)",
   "language": "python",
   "name": "python3"
  },
  "language_info": {
   "codemirror_mode": {
    "name": "ipython",
    "version": 3
   },
   "file_extension": ".py",
   "mimetype": "text/x-python",
   "name": "python",
   "nbconvert_exporter": "python",
   "pygments_lexer": "ipython3",
   "version": "3.9.15"
  }
 },
 "nbformat": 4,
 "nbformat_minor": 5
}
