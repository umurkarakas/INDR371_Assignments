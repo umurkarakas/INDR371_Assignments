{
 "cells": [
  {
   "cell_type": "code",
   "execution_count": 1,
   "id": "5b5a249c",
   "metadata": {},
   "outputs": [],
   "source": [
    "import numpy as np\n",
    "import pandas as pd\n",
    "import gurobipy as gp\n",
    "from gurobipy import GRB"
   ]
  },
  {
   "cell_type": "code",
   "execution_count": 2,
   "id": "bae4ff3c",
   "metadata": {},
   "outputs": [],
   "source": [
    "c1=pd.read_excel(\"HW2.xlsx\",sheet_name=\"production cost\")\n",
    "periods = list(c1.iloc[:,0])\n",
    "c1=dict(zip(c1.time, c1.cost))\n",
    "c2=pd.read_excel(\"HW2.xlsx\",sheet_name=\"procurement cost\")\n",
    "Y = dict(zip(c2.time, c2.Y_t))\n",
    "c2=dict(zip(c2.time, c2.cost))\n",
    "c4=pd.read_excel(\"HW2.xlsx\",sheet_name=\"fixed operatin cost\")\n",
    "c4=dict(zip(c4.time, c4.cost))\n",
    "d=pd.read_excel(\"HW2.xlsx\",sheet_name=\"demand\")\n",
    "d=dict(zip(d.time, d.demand))\n",
    "params=pd.read_excel(\"HW2.xlsx\",sheet_name=\"other parameters\",header=None)\n",
    "K = params.iloc[0,1]\n",
    "c3 = params.iloc[1,1]\n",
    "h = params.iloc[2,1]"
   ]
  },
  {
   "cell_type": "markdown",
   "id": "1f4d7290",
   "metadata": {},
   "source": [
    "### Question 3, part C"
   ]
  },
  {
   "cell_type": "code",
   "execution_count": 3,
   "id": "e064ca34",
   "metadata": {},
   "outputs": [
    {
     "name": "stdout",
     "output_type": "stream",
     "text": [
      "Set parameter Username\n",
      "Academic license - for non-commercial use only - expires 2023-10-08\n"
     ]
    }
   ],
   "source": [
    "#model\n",
    "m = gp.Model(\"q3\")\n",
    "m.ModelSense = GRB.MINIMIZE\n",
    "#decision variables \n",
    "x=m.addVars(periods, name=\"x\", vtype=GRB.CONTINUOUS)\n",
    "y=m.addVars(periods, name=\"y\",vtype=GRB.CONTINUOUS)\n",
    "I=m.addVars(periods+[53], name=\"I\", vtype=GRB.CONTINUOUS, lb = 0.0)\n",
    "z=m.addVars(periods, name=\"z\", vtype=GRB.BINARY)\n",
    "j=m.addVar(vtype=GRB.BINARY) ## whether we do in-house production or not"
   ]
  },
  {
   "cell_type": "code",
   "execution_count": 4,
   "id": "4c01ecb5",
   "metadata": {},
   "outputs": [],
   "source": [
    "m.addConstrs((I[t+1] == I[t] + x[t] + y[t] - d[t]) for t in periods) ## inventory level constraint\n",
    "\n",
    "m.addConstrs((x[t] <= z[t] * K) for t in periods) ## production capacity\n",
    "\n",
    "m.addConstrs((y[t] <= z[t] * Y[t]) for t in periods) ## procurement capacity for period t\n",
    "\n",
    "m.addConstrs((j >= z[t]) for t in periods) ## inhouse production binary j \n",
    "\n",
    "m.addConstrs((z[t] >= z[t-1]) for t in periods[1:])  ## inhouse production is always 1 after its opened at period t\n",
    "\n",
    "m.addConstr(I[1] == 0) ## initial inventory is zero\n",
    " \n",
    "m.addConstr(I[53] == 0) ## its not given but i assume that ending inventory should also be zero \n",
    "## if i do not add this production at t=52 comes up zero\n",
    "\n",
    "m.setObjective(gp.quicksum(c1[t] * x[t] + c2[t] * y[t] + h * I[t] + c4[t] * z[t] for t in periods) + c3 * j) ## objective"
   ]
  },
  {
   "cell_type": "code",
   "execution_count": 5,
   "id": "840e2e2e",
   "metadata": {},
   "outputs": [
    {
     "name": "stdout",
     "output_type": "stream",
     "text": [
      "Gurobi Optimizer version 9.5.2 build v9.5.2rc0 (mac64[rosetta2])\n",
      "Thread count: 8 physical cores, 8 logical processors, using up to 8 threads\n",
      "Optimize a model with 261 rows, 210 columns and 624 nonzeros\n",
      "Model fingerprint: 0xba22d091\n",
      "Variable types: 157 continuous, 53 integer (53 binary)\n",
      "Coefficient statistics:\n",
      "  Matrix range     [1e+00, 4e+02]\n",
      "  Objective range  [5e-01, 2e+03]\n",
      "  Bounds range     [1e+00, 1e+00]\n",
      "  RHS range        [3e+00, 2e+02]\n",
      "Found heuristic solution: objective 66832.850000\n",
      "Presolve removed 210 rows and 58 columns\n",
      "Presolve time: 0.00s\n",
      "Presolved: 51 rows, 152 columns, 202 nonzeros\n",
      "Variable types: 152 continuous, 0 integer (0 binary)\n",
      "\n",
      "Root relaxation: objective 5.782600e+04, 100 iterations, 0.00 seconds (0.00 work units)\n",
      "\n",
      "    Nodes    |    Current Node    |     Objective Bounds      |     Work\n",
      " Expl Unexpl |  Obj  Depth IntInf | Incumbent    BestBd   Gap | It/Node Time\n",
      "\n",
      "*    0     0               0    57826.000000 57826.0000  0.00%     -    0s\n",
      "\n",
      "Explored 1 nodes (100 simplex iterations) in 0.02 seconds (0.00 work units)\n",
      "Thread count was 8 (of 8 available processors)\n",
      "\n",
      "Solution count 1: 57826 \n",
      "\n",
      "Optimal solution found (tolerance 1.00e-04)\n",
      "Best objective 5.782600000000e+04, best bound 5.782600000000e+04, gap 0.0000%\n"
     ]
    }
   ],
   "source": [
    "m.optimize()"
   ]
  },
  {
   "cell_type": "code",
   "execution_count": 6,
   "id": "a887bd0e",
   "metadata": {},
   "outputs": [
    {
     "name": "stdout",
     "output_type": "stream",
     "text": [
      "<gurobi.Var x[1] (value 50.0)>\n",
      "<gurobi.Var x[2] (value 67.0)>\n",
      "<gurobi.Var x[3] (value 96.0)>\n",
      "<gurobi.Var x[4] (value 89.0)>\n",
      "<gurobi.Var x[5] (value 66.0)>\n",
      "<gurobi.Var x[6] (value 56.0)>\n",
      "<gurobi.Var x[7] (value 66.0)>\n",
      "<gurobi.Var x[8] (value 56.0)>\n",
      "<gurobi.Var x[9] (value 68.0)>\n",
      "<gurobi.Var x[10] (value 84.0)>\n",
      "<gurobi.Var x[11] (value 56.0)>\n",
      "<gurobi.Var x[12] (value 86.0)>\n",
      "<gurobi.Var x[13] (value 102.0)>\n",
      "<gurobi.Var x[14] (value 121.0)>\n",
      "<gurobi.Var x[15] (value 143.0)>\n",
      "<gurobi.Var x[16] (value 168.0)>\n",
      "<gurobi.Var x[17] (value 157.0)>\n",
      "<gurobi.Var x[18] (value 151.0)>\n",
      "<gurobi.Var x[19] (value 150.0)>\n",
      "<gurobi.Var x[20] (value 141.0)>\n",
      "<gurobi.Var x[21] (value 126.0)>\n",
      "<gurobi.Var x[22] (value 100.0)>\n",
      "<gurobi.Var x[23] (value 80.0)>\n",
      "<gurobi.Var x[24] (value 96.0)>\n",
      "<gurobi.Var x[25] (value 96.0)>\n",
      "<gurobi.Var x[26] (value 86.0)>\n",
      "<gurobi.Var x[27] (value 86.0)>\n",
      "<gurobi.Var x[28] (value 108.0)>\n",
      "<gurobi.Var x[29] (value 86.0)>\n",
      "<gurobi.Var x[30] (value 152.0)>\n",
      "<gurobi.Var x[32] (value 67.0)>\n",
      "<gurobi.Var x[33] (value 69.0)>\n",
      "<gurobi.Var x[34] (value 42.0)>\n",
      "<gurobi.Var x[35] (value 49.0)>\n",
      "<gurobi.Var x[36] (value 53.0)>\n",
      "<gurobi.Var x[37] (value 46.0)>\n",
      "<gurobi.Var x[38] (value 26.0)>\n",
      "<gurobi.Var x[39] (value 3.0)>\n",
      "<gurobi.Var x[40] (value 7.0)>\n",
      "<gurobi.Var x[41] (value 30.0)>\n",
      "<gurobi.Var x[42] (value 51.0)>\n",
      "<gurobi.Var x[43] (value 67.0)>\n",
      "<gurobi.Var x[44] (value 95.0)>\n",
      "<gurobi.Var x[45] (value 124.0)>\n",
      "<gurobi.Var x[46] (value 144.0)>\n",
      "<gurobi.Var x[47] (value 141.0)>\n",
      "<gurobi.Var x[48] (value 140.0)>\n",
      "<gurobi.Var x[49] (value 160.0)>\n",
      "<gurobi.Var x[50] (value 174.0)>\n",
      "<gurobi.Var x[51] (value 164.0)>\n",
      "<gurobi.Var x[52] (value 151.0)>\n"
     ]
    }
   ],
   "source": [
    "for i in range(1,53):\n",
    "    if x[i].X != 0:\n",
    "        print(x[i])"
   ]
  },
  {
   "cell_type": "code",
   "execution_count": 7,
   "id": "88817e2e",
   "metadata": {},
   "outputs": [],
   "source": [
    "for i in range(1,53):\n",
    "    if y[i].X != 0:\n",
    "        print(y[i])"
   ]
  },
  {
   "cell_type": "code",
   "execution_count": 8,
   "id": "92967ccd",
   "metadata": {},
   "outputs": [
    {
     "name": "stdout",
     "output_type": "stream",
     "text": [
      "<gurobi.Var I[31] (value 66.0)>\n"
     ]
    }
   ],
   "source": [
    "for i in range(1,53):\n",
    "    if I[i].X != 0:\n",
    "        print(I[i])"
   ]
  },
  {
   "cell_type": "code",
   "execution_count": 9,
   "id": "cd85715e",
   "metadata": {},
   "outputs": [
    {
     "name": "stdout",
     "output_type": "stream",
     "text": [
      "<gurobi.Var z[1] (value 1.0)>\n",
      "<gurobi.Var z[2] (value 1.0)>\n",
      "<gurobi.Var z[3] (value 1.0)>\n",
      "<gurobi.Var z[4] (value 1.0)>\n",
      "<gurobi.Var z[5] (value 1.0)>\n",
      "<gurobi.Var z[6] (value 1.0)>\n",
      "<gurobi.Var z[7] (value 1.0)>\n",
      "<gurobi.Var z[8] (value 1.0)>\n",
      "<gurobi.Var z[9] (value 1.0)>\n",
      "<gurobi.Var z[10] (value 1.0)>\n",
      "<gurobi.Var z[11] (value 1.0)>\n",
      "<gurobi.Var z[12] (value 1.0)>\n",
      "<gurobi.Var z[13] (value 1.0)>\n",
      "<gurobi.Var z[14] (value 1.0)>\n",
      "<gurobi.Var z[15] (value 1.0)>\n",
      "<gurobi.Var z[16] (value 1.0)>\n",
      "<gurobi.Var z[17] (value 1.0)>\n",
      "<gurobi.Var z[18] (value 1.0)>\n",
      "<gurobi.Var z[19] (value 1.0)>\n",
      "<gurobi.Var z[20] (value 1.0)>\n",
      "<gurobi.Var z[21] (value 1.0)>\n",
      "<gurobi.Var z[22] (value 1.0)>\n",
      "<gurobi.Var z[23] (value 1.0)>\n",
      "<gurobi.Var z[24] (value 1.0)>\n",
      "<gurobi.Var z[25] (value 1.0)>\n",
      "<gurobi.Var z[26] (value 1.0)>\n",
      "<gurobi.Var z[27] (value 1.0)>\n",
      "<gurobi.Var z[28] (value 1.0)>\n",
      "<gurobi.Var z[29] (value 1.0)>\n",
      "<gurobi.Var z[30] (value 1.0)>\n",
      "<gurobi.Var z[31] (value 1.0)>\n",
      "<gurobi.Var z[32] (value 1.0)>\n",
      "<gurobi.Var z[33] (value 1.0)>\n",
      "<gurobi.Var z[34] (value 1.0)>\n",
      "<gurobi.Var z[35] (value 1.0)>\n",
      "<gurobi.Var z[36] (value 1.0)>\n",
      "<gurobi.Var z[37] (value 1.0)>\n",
      "<gurobi.Var z[38] (value 1.0)>\n",
      "<gurobi.Var z[39] (value 1.0)>\n",
      "<gurobi.Var z[40] (value 1.0)>\n",
      "<gurobi.Var z[41] (value 1.0)>\n",
      "<gurobi.Var z[42] (value 1.0)>\n",
      "<gurobi.Var z[43] (value 1.0)>\n",
      "<gurobi.Var z[44] (value 1.0)>\n",
      "<gurobi.Var z[45] (value 1.0)>\n",
      "<gurobi.Var z[46] (value 1.0)>\n",
      "<gurobi.Var z[47] (value 1.0)>\n",
      "<gurobi.Var z[48] (value 1.0)>\n",
      "<gurobi.Var z[49] (value 1.0)>\n",
      "<gurobi.Var z[50] (value 1.0)>\n",
      "<gurobi.Var z[51] (value 1.0)>\n",
      "<gurobi.Var z[52] (value 1.0)>\n"
     ]
    }
   ],
   "source": [
    "for i in range(1,53):\n",
    "    if z[i].X != 0:\n",
    "        print(z[i])"
   ]
  },
  {
   "cell_type": "code",
   "execution_count": null,
   "id": "f6b612e5",
   "metadata": {},
   "outputs": [],
   "source": []
  }
 ],
 "metadata": {
  "kernelspec": {
   "display_name": "Python 3 (ipykernel)",
   "language": "python",
   "name": "python3"
  },
  "language_info": {
   "codemirror_mode": {
    "name": "ipython",
    "version": 3
   },
   "file_extension": ".py",
   "mimetype": "text/x-python",
   "name": "python",
   "nbconvert_exporter": "python",
   "pygments_lexer": "ipython3",
   "version": "3.9.12"
  }
 },
 "nbformat": 4,
 "nbformat_minor": 5
}
