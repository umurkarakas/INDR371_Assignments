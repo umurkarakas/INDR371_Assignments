{
 "cells": [
  {
   "cell_type": "code",
   "execution_count": 6,
   "id": "6cb88534",
   "metadata": {},
   "outputs": [],
   "source": [
    "import numpy as np\n",
    "import pandas as pd\n",
    "import gurobipy as gp\n",
    "from gurobipy import GRB\n",
    "import matplotlib.pyplot as plt\n",
    "%matplotlib inline"
   ]
  },
  {
   "cell_type": "markdown",
   "id": "2ecfd987",
   "metadata": {},
   "source": [
    "## Question 1"
   ]
  },
  {
   "cell_type": "code",
   "execution_count": 7,
   "id": "e81aceb0",
   "metadata": {},
   "outputs": [],
   "source": [
    "activity_times = np.array([[5,5,5], [3,4,5], [15,0,0], [0,4,3], [10,10,10]])\n",
    "workers = [5,4,4,6,8]\n",
    "products = [\"a\", \"b\", \"c\"]\n",
    "demands = [7, 5, 4]"
   ]
  },
  {
   "cell_type": "code",
   "execution_count": 8,
   "id": "b6d9cb16",
   "metadata": {},
   "outputs": [],
   "source": [
    "m = gp.Model(\"q1\")\n",
    "m.ModelSense = GRB.MAXIMIZE\n",
    "x = m.addVars(products, vtype=GRB.CONTINUOUS)\n",
    "for i in range(len(activity_times)):\n",
    "    m.addConstr(gp.quicksum(activity_times[i][j]*x[products[j]] \n",
    "                            for j in range(len(activity_times[i]))) <= workers[i])\n",
    "m.addConstr(demands[1]*x[\"a\"] == demands[0]*x[\"b\"])\n",
    "m.addConstr(demands[2]*x[\"b\"] == demands[1]*x[\"c\"])\n",
    "m.setObjective(x[\"a\"])"
   ]
  },
  {
   "cell_type": "code",
   "execution_count": 9,
   "id": "dfe2a58f",
   "metadata": {},
   "outputs": [
    {
     "name": "stdout",
     "output_type": "stream",
     "text": [
      "Gurobi Optimizer version 9.5.2 build v9.5.2rc0 (mac64[arm])\n",
      "Thread count: 8 physical cores, 8 logical processors, using up to 8 threads\n",
      "Optimize a model with 7 rows, 3 columns and 16 nonzeros\n",
      "Model fingerprint: 0x1ade3a39\n",
      "Coefficient statistics:\n",
      "  Matrix range     [3e+00, 2e+01]\n",
      "  Objective range  [1e+00, 1e+00]\n",
      "  Bounds range     [0e+00, 0e+00]\n",
      "  RHS range        [4e+00, 8e+00]\n",
      "Presolve removed 7 rows and 3 columns\n",
      "Presolve time: 0.01s\n",
      "Presolve: All rows and columns removed\n",
      "Iteration    Objective       Primal Inf.    Dual Inf.      Time\n",
      "       0    2.6666667e-01   0.000000e+00   0.000000e+00      0s\n",
      "\n",
      "Solved in 0 iterations and 0.01 seconds (0.00 work units)\n",
      "Optimal objective  2.666666667e-01\n"
     ]
    }
   ],
   "source": [
    "m.optimize()"
   ]
  },
  {
   "cell_type": "code",
   "execution_count": 10,
   "id": "f2ad846a",
   "metadata": {},
   "outputs": [
    {
     "name": "stdout",
     "output_type": "stream",
     "text": [
      "3\n"
     ]
    }
   ],
   "source": [
    "used_workers = np.matmul(activity_times,[x[a].X for a in x.keys()])\n",
    "bottleneck_resource = np.where(workers==used_workers)[0][0] + 1\n",
    "print(bottleneck_resource)"
   ]
  },
  {
   "cell_type": "code",
   "execution_count": 11,
   "id": "cf077e55",
   "metadata": {},
   "outputs": [
    {
     "data": {
      "text/plain": [
       "array([128.        ,  91.42857143,  73.14285714])"
      ]
     },
     "execution_count": 11,
     "metadata": {},
     "output_type": "execute_result"
    }
   ],
   "source": [
    "max_flow_rates = 480 * np.array([_.x for _ in x.values()])\n",
    "max_flow_rates"
   ]
  },
  {
   "cell_type": "code",
   "execution_count": 12,
   "id": "7398018d",
   "metadata": {},
   "outputs": [
    {
     "data": {
      "text/plain": [
       "array([0.60952381, 0.58095238, 1.        , 0.2031746 , 0.76190476])"
      ]
     },
     "execution_count": 12,
     "metadata": {},
     "output_type": "execute_result"
    }
   ],
   "source": [
    "utilizations = used_workers/workers\n",
    "utilizations"
   ]
  },
  {
   "cell_type": "markdown",
   "id": "020ff146",
   "metadata": {},
   "source": [
    "## Question 2"
   ]
  },
  {
   "cell_type": "code",
   "execution_count": 39,
   "id": "54722532",
   "metadata": {},
   "outputs": [],
   "source": [
    "exp_times = activity_times\n",
    "inexp_times = 1.5 * exp_times\n",
    "workers = [12, 15]"
   ]
  },
  {
   "cell_type": "code",
   "execution_count": 40,
   "id": "57d4087a",
   "metadata": {},
   "outputs": [],
   "source": [
    "m = gp.Model(\"q2\")\n",
    "m.ModelSense = GRB.MAXIMIZE\n",
    "x = m.addVars(products, vtype=GRB.CONTINUOUS)\n",
    "inexp = m.addVars(range(5), vtype=GRB.INTEGER)\n",
    "exp = m.addVars(range(5), vtype=GRB.INTEGER)\n",
    "for i in range(len(exp_times)):\n",
    "    m.addConstr(gp.quicksum(exp_times[i][j]*x[products[j]] \n",
    "                            for j in range(len(exp_times[i]))) <= exp[i]+2*inexp[i]/3)\n",
    "m.addConstr(gp.quicksum(exp[_] for _ in range(5)) == workers[0])\n",
    "m.addConstr(gp.quicksum(inexp[_] for _ in range(5)) == workers[1])\n",
    "m.addConstr(demands[1]*x[\"a\"] == demands[0]*x[\"b\"])\n",
    "m.addConstr(demands[2]*x[\"b\"] == demands[1]*x[\"c\"])\n",
    "m.setObjective(x[\"a\"])"
   ]
  },
  {
   "cell_type": "code",
   "execution_count": 41,
   "id": "20b63f39",
   "metadata": {
    "scrolled": false
   },
   "outputs": [
    {
     "name": "stdout",
     "output_type": "stream",
     "text": [
      "Gurobi Optimizer version 9.5.2 build v9.5.2rc0 (mac64[arm])\n",
      "Thread count: 8 physical cores, 8 logical processors, using up to 8 threads\n",
      "Optimize a model with 9 rows, 13 columns and 36 nonzeros\n",
      "Model fingerprint: 0x72385a14\n",
      "Variable types: 3 continuous, 10 integer (0 binary)\n",
      "Coefficient statistics:\n",
      "  Matrix range     [7e-01, 2e+01]\n",
      "  Objective range  [1e+00, 1e+00]\n",
      "  Bounds range     [0e+00, 0e+00]\n",
      "  RHS range        [1e+01, 2e+01]\n",
      "Presolve removed 2 rows and 2 columns\n",
      "Presolve time: 0.00s\n",
      "Presolved: 7 rows, 11 columns, 25 nonzeros\n",
      "Variable types: 1 continuous, 10 integer (0 binary)\n",
      "Found heuristic solution: objective -0.0000000\n",
      "\n",
      "Root relaxation: objective 3.515982e-01, 7 iterations, 0.00 seconds (0.00 work units)\n",
      "\n",
      "    Nodes    |    Current Node    |     Objective Bounds      |     Work\n",
      " Expl Unexpl |  Obj  Depth IntInf | Incumbent    BestBd   Gap | It/Node Time\n",
      "\n",
      "     0     0    0.35160    0    6   -0.00000    0.35160      -     -    0s\n",
      "H    0     0                       0.2916667    0.35160  20.5%     -    0s\n",
      "     0     0    0.35160    0    6    0.29167    0.35160  20.5%     -    0s\n",
      "H    0     0                       0.3208333    0.35160  9.59%     -    0s\n",
      "H    0     0                       0.3442623    0.35160  2.13%     -    0s\n",
      "     0     0    0.35160    0    6    0.34426    0.35160  2.13%     -    0s\n",
      "     0     2    0.35160    0    6    0.34426    0.35160  2.13%     -    0s\n",
      "\n",
      "Explored 108 nodes (132 simplex iterations) in 0.02 seconds (0.00 work units)\n",
      "Thread count was 8 (of 8 available processors)\n",
      "\n",
      "Solution count 4: 0.344262 0.320833 0.291667 -0 \n",
      "No other solutions better than 0.344262\n",
      "\n",
      "Optimal solution found (tolerance 1.00e-04)\n",
      "Best objective 3.442622950820e-01, best bound 3.442622950820e-01, gap 0.0000%\n"
     ]
    }
   ],
   "source": [
    "m.optimize()"
   ]
  },
  {
   "cell_type": "code",
   "execution_count": 43,
   "id": "c4b8a4ff",
   "metadata": {},
   "outputs": [
    {
     "data": {
      "text/plain": [
       "{0: <gurobi.Var C3 (value -0.0)>,\n",
       " 1: <gurobi.Var C4 (value -0.0)>,\n",
       " 2: <gurobi.Var C5 (value 2.0)>,\n",
       " 3: <gurobi.Var C6 (value 1.0)>,\n",
       " 4: <gurobi.Var C7 (value 12.0)>}"
      ]
     },
     "execution_count": 43,
     "metadata": {},
     "output_type": "execute_result"
    }
   ],
   "source": [
    "inexp"
   ]
  },
  {
   "cell_type": "code",
   "execution_count": 44,
   "id": "4018be55",
   "metadata": {},
   "outputs": [
    {
     "data": {
      "text/plain": [
       "{0: <gurobi.Var C8 (value 4.0)>,\n",
       " 1: <gurobi.Var C9 (value 3.0)>,\n",
       " 2: <gurobi.Var C10 (value 4.0)>,\n",
       " 3: <gurobi.Var C11 (value 1.0)>,\n",
       " 4: <gurobi.Var C12 (value 0.0)>}"
      ]
     },
     "execution_count": 44,
     "metadata": {},
     "output_type": "execute_result"
    }
   ],
   "source": [
    "exp"
   ]
  },
  {
   "cell_type": "code",
   "execution_count": 54,
   "id": "a9a12571",
   "metadata": {},
   "outputs": [],
   "source": [
    "used_workers = np.matmul(exp_times,[x[a].X for a in x.keys()])\n",
    "utilized_workers = 2/3 * np.array([_.X for _ in inexp.values()]) + np.array([_.X for _ in exp.values()])"
   ]
  },
  {
   "cell_type": "code",
   "execution_count": 55,
   "id": "17294383",
   "metadata": {},
   "outputs": [
    {
     "data": {
      "text/plain": [
       "array([3.93442623, 3.        , 5.16393443, 1.57377049, 7.86885246])"
      ]
     },
     "execution_count": 55,
     "metadata": {},
     "output_type": "execute_result"
    }
   ],
   "source": [
    "used_workers"
   ]
  },
  {
   "cell_type": "code",
   "execution_count": 56,
   "id": "85cb9c64",
   "metadata": {},
   "outputs": [
    {
     "data": {
      "text/plain": [
       "array([4.        , 3.        , 5.33333333, 1.66666667, 8.        ])"
      ]
     },
     "execution_count": 56,
     "metadata": {},
     "output_type": "execute_result"
    }
   ],
   "source": [
    "utilized_workers"
   ]
  },
  {
   "cell_type": "markdown",
   "id": "bee9562f",
   "metadata": {},
   "source": [
    "Resource 2 is the bottleneck!"
   ]
  }
 ],
 "metadata": {
  "kernelspec": {
   "display_name": "Python 3 (ipykernel)",
   "language": "python",
   "name": "python3"
  },
  "language_info": {
   "codemirror_mode": {
    "name": "ipython",
    "version": 3
   },
   "file_extension": ".py",
   "mimetype": "text/x-python",
   "name": "python",
   "nbconvert_exporter": "python",
   "pygments_lexer": "ipython3",
   "version": "3.9.15"
  }
 },
 "nbformat": 4,
 "nbformat_minor": 5
}
