{
 "cells": [
  {
   "cell_type": "code",
   "execution_count": 1,
   "id": "b1a43f30",
   "metadata": {},
   "outputs": [],
   "source": [
    "import numpy as np\n",
    "import pandas as pd\n",
    "import gurobipy as gp\n",
    "from gurobipy import GRB"
   ]
  },
  {
   "cell_type": "code",
   "execution_count": 85,
   "id": "a59a0d4b",
   "metadata": {},
   "outputs": [],
   "source": [
    "distance=pd.read_excel(\"Turkish network.xls\",sheet_name=\"Distance (km)\", skiprows=[0], index_col=1).iloc[:,1:]\n",
    "travel_time=pd.read_excel(\"Turkish network.xls\",sheet_name=\"Travel time (min)\", skiprows=[0], index_col=1).iloc[:,1:]\n",
    "flow = pd.read_excel(\"Turkish network.xls\",sheet_name=\"Flow\", skiprows=[0], index_col=1).iloc[:,1:]\n",
    "fixed_link_cost = pd.read_excel(\"Turkish network.xls\",sheet_name=\"Fixed link cost\", skiprows=[0], index_col=1).iloc[:,1:]\n",
    "fixed_hub_cost = pd.read_excel(\"Turkish network.xls\", sheet_name=\"Fixed hub cost\", index_col=1).iloc[:,1:]"
   ]
  },
  {
   "cell_type": "code",
   "execution_count": 96,
   "id": "a2cccc48",
   "metadata": {},
   "outputs": [],
   "source": [
    "possible_assignments = [(i,j) for i in distance.index for j in distance.columns]\n",
    "cities = list(distance.columns)"
   ]
  },
  {
   "cell_type": "code",
   "execution_count": 104,
   "id": "166b7c66",
   "metadata": {},
   "outputs": [],
   "source": [
    "total_costs = fixed_link_cost.sum(axis=1) + distance.sum(axis=1) + fixed_hub_cost.sum(axis=1)\n",
    "total_costs = dict(zip(total_costs.index, total_costs.values))"
   ]
  },
  {
   "cell_type": "code",
   "execution_count": 105,
   "id": "52f553f4",
   "metadata": {},
   "outputs": [
    {
     "name": "stdout",
     "output_type": "stream",
     "text": [
      "Gurobi Optimizer version 9.5.2 build v9.5.2rc0 (mac64[rosetta2])\n",
      "Thread count: 8 physical cores, 8 logical processors, using up to 8 threads\n",
      "Optimize a model with 81 rows, 81 columns and 81 nonzeros\n",
      "Model fingerprint: 0x7b72e409\n",
      "Variable types: 0 continuous, 81 integer (81 binary)\n",
      "Coefficient statistics:\n",
      "  Matrix range     [1e+00, 1e+00]\n",
      "  Objective range  [5e+04, 9e+04]\n",
      "  Bounds range     [1e+00, 1e+00]\n",
      "  RHS range        [1e+00, 1e+00]\n",
      "Found heuristic solution: objective 5043046.5075\n",
      "Presolve removed 81 rows and 81 columns\n",
      "Presolve time: 0.01s\n",
      "Presolve: All rows and columns removed\n",
      "\n",
      "Explored 0 nodes (0 simplex iterations) in 0.02 seconds (0.00 work units)\n",
      "Thread count was 1 (of 8 available processors)\n",
      "\n",
      "Solution count 1: 5.04305e+06 \n",
      "\n",
      "Optimal solution found (tolerance 1.00e-04)\n",
      "Best objective 5.043046507460e+06, best bound 5.043046507460e+06, gap 0.0000%\n"
     ]
    }
   ],
   "source": [
    "#model\n",
    "m = gp.Model(\"single_hub\")\n",
    "m.ModelSense = GRB.MINIMIZE\n",
    "\n",
    "#decision variables \n",
    "xi=m.addVars(cities,name=\"hub\",vtype=GRB.BINARY, obj=total_costs)\n",
    "\n",
    "one_hub=m.addConstrs(\n",
    "    (xi.sum(i) == 1 for i in cities),\"One Hub\")\n",
    "\n",
    "m.optimize()"
   ]
  },
  {
   "cell_type": "code",
   "execution_count": null,
   "id": "9fba744f",
   "metadata": {},
   "outputs": [],
   "source": []
  }
 ],
 "metadata": {
  "kernelspec": {
   "display_name": "Python 3 (ipykernel)",
   "language": "python",
   "name": "python3"
  },
  "language_info": {
   "codemirror_mode": {
    "name": "ipython",
    "version": 3
   },
   "file_extension": ".py",
   "mimetype": "text/x-python",
   "name": "python",
   "nbconvert_exporter": "python",
   "pygments_lexer": "ipython3",
   "version": "3.9.12"
  }
 },
 "nbformat": 4,
 "nbformat_minor": 5
}
